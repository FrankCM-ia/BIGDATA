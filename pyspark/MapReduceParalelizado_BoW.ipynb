{
  "nbformat": 4,
  "nbformat_minor": 0,
  "metadata": {
    "colab": {
      "name": "MapReduceParalelizado_BoW.ipynb",
      "provenance": [],
      "collapsed_sections": []
    },
    "kernelspec": {
      "name": "python3",
      "display_name": "Python 3"
    },
    "language_info": {
      "name": "python"
    }
  },
  "cells": [
    {
      "cell_type": "markdown",
      "source": [
        "> NOMBRE: Elizon Frank Carcausto Mamani\n",
        "\n",
        "> CODIGO: 170427"
      ],
      "metadata": {
        "id": "0OvJLDrdMaEV"
      }
    },
    {
      "cell_type": "markdown",
      "source": [
        "# Instalacion e importacion de Recursos"
      ],
      "metadata": {
        "id": "-Pp9_-gqM9cG"
      }
    },
    {
      "cell_type": "code",
      "execution_count": 1,
      "metadata": {
        "id": "BOnQuGvFkFBx",
        "colab": {
          "base_uri": "https://localhost:8080/"
        },
        "outputId": "b8a86ea6-0954-4da3-b0b4-a47b4507ff56"
      },
      "outputs": [
        {
          "output_type": "stream",
          "name": "stdout",
          "text": [
            "Collecting pyspark\n",
            "  Downloading pyspark-3.2.0.tar.gz (281.3 MB)\n",
            "\u001b[K     |████████████████████████████████| 281.3 MB 37 kB/s \n",
            "\u001b[?25hCollecting py4j==0.10.9.2\n",
            "  Downloading py4j-0.10.9.2-py2.py3-none-any.whl (198 kB)\n",
            "\u001b[K     |████████████████████████████████| 198 kB 64.5 MB/s \n",
            "\u001b[?25hBuilding wheels for collected packages: pyspark\n",
            "  Building wheel for pyspark (setup.py) ... \u001b[?25l\u001b[?25hdone\n",
            "  Created wheel for pyspark: filename=pyspark-3.2.0-py2.py3-none-any.whl size=281805912 sha256=c475683e0109d8356bd6932a4822d215f19b5f562967f847e9ea808dd2ce325b\n",
            "  Stored in directory: /root/.cache/pip/wheels/0b/de/d2/9be5d59d7331c6c2a7c1b6d1a4f463ce107332b1ecd4e80718\n",
            "Successfully built pyspark\n",
            "Installing collected packages: py4j, pyspark\n",
            "Successfully installed py4j-0.10.9.2 pyspark-3.2.0\n"
          ]
        }
      ],
      "source": [
        "!pip install pyspark"
      ]
    },
    {
      "cell_type": "code",
      "source": [
        "import re\n",
        "import math\n",
        "import nltk\n",
        "from pyspark.sql.functions import *\n",
        "from pyspark.sql import SparkSession\n",
        "from pyspark import SparkContext, SparkConf\n",
        "sc =SparkContext.getOrCreate()\n",
        "from nltk.tokenize import word_tokenize\n",
        "from nltk.corpus import stopwords\n",
        "nltk.download('stopwords')\n",
        "nltk.download('punkt')"
      ],
      "metadata": {
        "id": "geGBcjpFlmCs",
        "colab": {
          "base_uri": "https://localhost:8080/"
        },
        "outputId": "ca466290-43b0-4845-9d6a-2713228d33ea"
      },
      "execution_count": 2,
      "outputs": [
        {
          "output_type": "stream",
          "name": "stdout",
          "text": [
            "[nltk_data] Downloading package stopwords to /root/nltk_data...\n",
            "[nltk_data]   Unzipping corpora/stopwords.zip.\n",
            "[nltk_data] Downloading package punkt to /root/nltk_data...\n",
            "[nltk_data]   Unzipping tokenizers/punkt.zip.\n"
          ]
        },
        {
          "output_type": "execute_result",
          "data": {
            "text/plain": [
              "True"
            ]
          },
          "metadata": {},
          "execution_count": 2
        }
      ]
    },
    {
      "cell_type": "markdown",
      "source": [
        "# Implementacion del Algoritmo TF-IDF"
      ],
      "metadata": {
        "id": "gPYwTp-2NDiD"
      }
    },
    {
      "cell_type": "markdown",
      "source": [
        "Para la implementacion usaremos los ejemplos del colab adjuntado."
      ],
      "metadata": {
        "id": "HTxs8CMEbyTt"
      }
    },
    {
      "cell_type": "code",
      "source": [
        "corpus = [\"messi messi messi ronaldo ronaldo balon\", \"messi ronaldo futbol futbol futbol\"]\n",
        "data = [(i+1, corpus[i]) for i in range(len(corpus))]\n",
        "data"
      ],
      "metadata": {
        "id": "RFXWPaxcNtPc",
        "colab": {
          "base_uri": "https://localhost:8080/"
        },
        "outputId": "f57681db-f543-4e78-f98e-716c81600136"
      },
      "execution_count": 3,
      "outputs": [
        {
          "output_type": "execute_result",
          "data": {
            "text/plain": [
              "[(1, 'messi messi messi ronaldo ronaldo balon'),\n",
              " (2, 'messi ronaldo futbol futbol futbol')]"
            ]
          },
          "metadata": {},
          "execution_count": 3
        }
      ]
    },
    {
      "cell_type": "markdown",
      "source": [
        "Creamos el conjunto de datos con el corpus de ejemplo. "
      ],
      "metadata": {
        "id": "bvtWunqWb-nE"
      }
    },
    {
      "cell_type": "code",
      "source": [
        "lines=sc.parallelize(data)\n",
        "lines.collect()"
      ],
      "metadata": {
        "id": "m5mh_wktU_Ik",
        "colab": {
          "base_uri": "https://localhost:8080/"
        },
        "outputId": "9f55b9a3-6623-408b-e48f-4dc448b7813d"
      },
      "execution_count": 4,
      "outputs": [
        {
          "output_type": "execute_result",
          "data": {
            "text/plain": [
              "[(1, 'messi messi messi ronaldo ronaldo balon'),\n",
              " (2, 'messi ronaldo futbol futbol futbol')]"
            ]
          },
          "metadata": {},
          "execution_count": 4
        }
      ]
    },
    {
      "cell_type": "markdown",
      "source": [
        "## CALCULO DEL TF"
      ],
      "metadata": {
        "id": "cGlbhfJ3cLH5"
      }
    },
    {
      "cell_type": "markdown",
      "source": [
        "Para el calculo del TF se usara la formula:\n",
        "$$tf(t,d) = 1 + log(f_{t,d})$$\n",
        "Donde:\n",
        "- **t**: número de veces que aparece la palabra \"messi\" en el documento\n",
        "- **d**: número de palabras que tiene el documento"
      ],
      "metadata": {
        "id": "7EXTve-wcOK5"
      }
    },
    {
      "cell_type": "markdown",
      "source": [
        "PASO 1: extraemos el nuemro de palabras de cada documento, el (indice + 1)  indica el documento al que pertenece la cantidad."
      ],
      "metadata": {
        "id": "vPRK753tdEnR"
      }
    },
    {
      "cell_type": "code",
      "source": [
        "n_words = [len(i.split()) for i in corpus]"
      ],
      "metadata": {
        "id": "KeMInhk3Yr_2"
      },
      "execution_count": 5,
      "outputs": []
    },
    {
      "cell_type": "markdown",
      "source": [
        "PASO 2: Marcar con 1 la indicencia de cada palabra: ( (IdDoc, Token), 1 ) \n",
        "\n",
        "\n",
        "\n",
        "\n",
        "\n",
        "\n",
        "\n",
        "\n",
        "\n"
      ],
      "metadata": {
        "id": "3eSetzzheB45"
      }
    },
    {
      "cell_type": "code",
      "source": [
        "map1=lines.flatMap(lambda x: [ ((x[0],i),1) for i in x[1].split()])\n",
        "map1.collect()"
      ],
      "metadata": {
        "id": "JgVuMU9DNKwL",
        "colab": {
          "base_uri": "https://localhost:8080/"
        },
        "outputId": "cca06d84-c8b5-4c8f-a266-2f1bea726167"
      },
      "execution_count": 6,
      "outputs": [
        {
          "output_type": "execute_result",
          "data": {
            "text/plain": [
              "[((1, 'messi'), 1),\n",
              " ((1, 'messi'), 1),\n",
              " ((1, 'messi'), 1),\n",
              " ((1, 'ronaldo'), 1),\n",
              " ((1, 'ronaldo'), 1),\n",
              " ((1, 'balon'), 1),\n",
              " ((2, 'messi'), 1),\n",
              " ((2, 'ronaldo'), 1),\n",
              " ((2, 'futbol'), 1),\n",
              " ((2, 'futbol'), 1),\n",
              " ((2, 'futbol'), 1)]"
            ]
          },
          "metadata": {},
          "execution_count": 6
        }
      ]
    },
    {
      "cell_type": "markdown",
      "source": [
        "PASO 3: contar el numero de incidencias de cada token, usando **reduceByKey**: ( ( IdDoc, Token), #incidencias ) "
      ],
      "metadata": {
        "id": "XdEYEif8ep1z"
      }
    },
    {
      "cell_type": "code",
      "source": [
        "reduce =map1.reduceByKey(lambda x,y:x+y)\n",
        "reduce.collect()"
      ],
      "metadata": {
        "id": "lr21WlSxTgLn",
        "colab": {
          "base_uri": "https://localhost:8080/"
        },
        "outputId": "e6ae93ac-4f08-4a8f-9b46-814ad1f55bce"
      },
      "execution_count": 7,
      "outputs": [
        {
          "output_type": "execute_result",
          "data": {
            "text/plain": [
              "[((1, 'ronaldo'), 2),\n",
              " ((1, 'balon'), 1),\n",
              " ((2, 'messi'), 1),\n",
              " ((1, 'messi'), 3),\n",
              " ((2, 'ronaldo'), 1),\n",
              " ((2, 'futbol'), 3)]"
            ]
          },
          "metadata": {},
          "execution_count": 7
        }
      ]
    },
    {
      "cell_type": "markdown",
      "source": [
        "PASO 4:  Calcular el TF usando la formula **Logaritmica** y usando **map**: ( ( Token, ( IdDoc, TF) ) "
      ],
      "metadata": {
        "id": "gOlY_HDUfYtr"
      }
    },
    {
      "cell_type": "code",
      "source": [
        "tf=reduce.map(lambda x: (x[0][1],(x[0][0], 1 + math.log10(x[1]/n_words[x[0][0]-1])  ) ))\n",
        "tf.collect()"
      ],
      "metadata": {
        "id": "F_Pn8hToTb0_",
        "colab": {
          "base_uri": "https://localhost:8080/"
        },
        "outputId": "58a48ef7-c5e9-4f63-dac4-a3705fd39bf2"
      },
      "execution_count": 8,
      "outputs": [
        {
          "output_type": "execute_result",
          "data": {
            "text/plain": [
              "[('ronaldo', (1, 0.5228787452803375)),\n",
              " ('balon', (1, 0.22184874961635637)),\n",
              " ('messi', (2, 0.30102999566398125)),\n",
              " ('messi', (1, 0.6989700043360187)),\n",
              " ('ronaldo', (2, 0.30102999566398125)),\n",
              " ('futbol', (2, 0.7781512503836436))]"
            ]
          },
          "metadata": {},
          "execution_count": 8
        }
      ]
    },
    {
      "cell_type": "markdown",
      "source": [
        "## CALCULO DE IDF"
      ],
      "metadata": {
        "id": "Qj1zZI-pgCzr"
      }
    },
    {
      "cell_type": "markdown",
      "source": [
        "Para el calculo del IDF se usara la formula:\n",
        "$$idf({n_t},D) = log(1 + \\frac{N}{n_t})$$\n",
        "Donde:\n",
        "- **n<sub>t</sub>**: número de documentos en los que aparece la palabra documento\n",
        "- **D**: número total de documentos en el corpus"
      ],
      "metadata": {
        "id": "Fg5WfW6Ph7b8"
      }
    },
    {
      "cell_type": "markdown",
      "source": [
        "PASO 1: Mapeamos los datos con sus TF junto a un contador 1: ( Token, ( IdDoc, TF, 1))"
      ],
      "metadata": {
        "id": "V_m2aAJ2gJB7"
      }
    },
    {
      "cell_type": "code",
      "source": [
        "map3=reduce.map(lambda x: (x[0][1],(x[0][0],x[1],1)))\n",
        "map3.collect()"
      ],
      "metadata": {
        "id": "5-vJCcJZgJhb",
        "colab": {
          "base_uri": "https://localhost:8080/"
        },
        "outputId": "deeb7a4b-bcda-4063-81b7-ef5cdfb77dca"
      },
      "execution_count": 9,
      "outputs": [
        {
          "output_type": "execute_result",
          "data": {
            "text/plain": [
              "[('ronaldo', (1, 2, 1)),\n",
              " ('balon', (1, 1, 1)),\n",
              " ('messi', (2, 1, 1)),\n",
              " ('messi', (1, 3, 1)),\n",
              " ('ronaldo', (2, 1, 1)),\n",
              " ('futbol', (2, 3, 1))]"
            ]
          },
          "metadata": {},
          "execution_count": 9
        }
      ]
    },
    {
      "cell_type": "markdown",
      "source": [
        "PASO 2: Extraermos el token y el contador 1. (Token, 1)"
      ],
      "metadata": {
        "id": "q4b94yqThAPZ"
      }
    },
    {
      "cell_type": "code",
      "source": [
        "map4=map3.map(lambda x:(x[0],x[1][2]))\n",
        "map4.collect()"
      ],
      "metadata": {
        "id": "_PPRAWCeg6mK",
        "colab": {
          "base_uri": "https://localhost:8080/"
        },
        "outputId": "e61a8f00-812b-40e8-a164-48804017bf9e"
      },
      "execution_count": 10,
      "outputs": [
        {
          "output_type": "execute_result",
          "data": {
            "text/plain": [
              "[('ronaldo', 1),\n",
              " ('balon', 1),\n",
              " ('messi', 1),\n",
              " ('messi', 1),\n",
              " ('ronaldo', 1),\n",
              " ('futbol', 1)]"
            ]
          },
          "metadata": {},
          "execution_count": 10
        }
      ]
    },
    {
      "cell_type": "markdown",
      "source": [
        "PASO 3: Calculamos el numero de incidencias del token con la funcion **reduceByKey** y un **lamda**. Luego calculamos el valor de IDF haciendo uso de la formula **logaritmica** y del map: (Token, IDF)"
      ],
      "metadata": {
        "id": "lWPcBLTOhdyx"
      }
    },
    {
      "cell_type": "code",
      "source": [
        "reduce2=map4.reduceByKey(lambda x,y:x+y)\n",
        "idf=reduce2.map(lambda x: (x[0], math.log10(1 + (len(data)/x[1]))))\n",
        "idf.collect()"
      ],
      "metadata": {
        "id": "5nh8RDM5hdRZ",
        "colab": {
          "base_uri": "https://localhost:8080/"
        },
        "outputId": "afc091db-1efd-41d2-977e-3aa343c4bd69"
      },
      "execution_count": 11,
      "outputs": [
        {
          "output_type": "execute_result",
          "data": {
            "text/plain": [
              "[('messi', 0.3010299956639812),\n",
              " ('ronaldo', 0.3010299956639812),\n",
              " ('balon', 0.47712125471966244),\n",
              " ('futbol', 0.47712125471966244)]"
            ]
          },
          "metadata": {},
          "execution_count": 11
        }
      ]
    },
    {
      "cell_type": "markdown",
      "source": [
        "## Calculo del TF-IDF"
      ],
      "metadata": {
        "id": "fpXetSWdiqH1"
      }
    },
    {
      "cell_type": "markdown",
      "source": [
        "Para el calculo del TF-IDF se usara la formula:\n",
        "$$tfidf(t,d,D) = tf(t,d) \\cdot idf(t,D)$$\n",
        "\n",
        "Se reutilizara los valores de Tf e IDF ya calculados."
      ],
      "metadata": {
        "id": "KTSK86OCiunk"
      }
    },
    {
      "cell_type": "markdown",
      "source": [
        "PASO 1: Unimos los dos conjuntos de datos previamente trabajados (TF, IDF). Luego mapeamos cada token con el valor de la multiplicacion de su Tf e IDF. (Token, Tf, IDF, TF-IDF)"
      ],
      "metadata": {
        "id": "DoHpg5rCjOpH"
      }
    },
    {
      "cell_type": "code",
      "source": [
        "rdd=tf.join(idf)\n",
        "rdd=rdd.map(lambda x: (x[1][0][0],(x[0],x[1][0][1],x[1][1],x[1][0][1]*x[1][1]))).sortByKey()\n",
        "rdd.collect()"
      ],
      "metadata": {
        "id": "XlLmLJJDjNJn",
        "colab": {
          "base_uri": "https://localhost:8080/"
        },
        "outputId": "17e065f2-b79b-4a11-c289-76bb7b5e02a8"
      },
      "execution_count": 12,
      "outputs": [
        {
          "output_type": "execute_result",
          "data": {
            "text/plain": [
              "[(1, ('ronaldo', 0.5228787452803375, 0.3010299956639812, 0.15740218642452794)),\n",
              " (1, ('messi', 0.6989700043360187, 0.3010299956639812, 0.21041093737452465)),\n",
              " (1, ('balon', 0.22184874961635637, 0.47712125471966244, 0.10584875377494418)),\n",
              " (2,\n",
              "  ('ronaldo', 0.30102999566398125, 0.3010299956639812, 0.09061905828945656)),\n",
              " (2, ('messi', 0.30102999566398125, 0.3010299956639812, 0.09061905828945656)),\n",
              " (2, ('futbol', 0.7781512503836436, 0.47712125471966244, 0.37127250094471825))]"
            ]
          },
          "metadata": {},
          "execution_count": 12
        }
      ]
    },
    {
      "cell_type": "markdown",
      "source": [
        "PASO 2: Convertirmos en un DataFrame para una mejor visualizacion."
      ],
      "metadata": {
        "id": "fUx-_anWjt9A"
      }
    },
    {
      "cell_type": "code",
      "source": [
        "spark = SparkSession(sc)\n",
        "rdd=rdd.map(lambda x: (x[0],x[1][0],x[1][1],x[1][2],x[1][3]))\n",
        "hasattr(rdd, \"toDF\")\n",
        "rdd.toDF([\"DocumentId\",\"Token\",\"TF\",\"IDF\",\"TF-IDF\"]).show()"
      ],
      "metadata": {
        "id": "rdjG5ZA7Sp5g",
        "colab": {
          "base_uri": "https://localhost:8080/"
        },
        "outputId": "42a66c6b-ae8f-4bbf-d36b-98dcc01331a7"
      },
      "execution_count": 13,
      "outputs": [
        {
          "output_type": "stream",
          "name": "stdout",
          "text": [
            "+----------+-------+-------------------+-------------------+-------------------+\n",
            "|DocumentId|  Token|                 TF|                IDF|             TF-IDF|\n",
            "+----------+-------+-------------------+-------------------+-------------------+\n",
            "|         1|ronaldo| 0.5228787452803375| 0.3010299956639812|0.15740218642452794|\n",
            "|         1|  messi| 0.6989700043360187| 0.3010299956639812|0.21041093737452465|\n",
            "|         1|  balon|0.22184874961635637|0.47712125471966244|0.10584875377494418|\n",
            "|         2|ronaldo|0.30102999566398125| 0.3010299956639812|0.09061905828945656|\n",
            "|         2|  messi|0.30102999566398125| 0.3010299956639812|0.09061905828945656|\n",
            "|         2| futbol| 0.7781512503836436|0.47712125471966244|0.37127250094471825|\n",
            "+----------+-------+-------------------+-------------------+-------------------+\n",
            "\n"
          ]
        }
      ]
    }
  ]
}