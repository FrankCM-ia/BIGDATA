{
 "cells": [
  {
   "cell_type": "markdown",
   "id": "290e9fb1",
   "metadata": {},
   "source": [
    "Identificar los n-primos, solo si el n-simo elementos no es divisible por los demas primos"
   ]
  },
  {
   "cell_type": "code",
   "execution_count": 8,
   "id": "186654b2",
   "metadata": {},
   "outputs": [],
   "source": [
    "primos = map head $ iterate (\\(x:cola) -> [ y | y<-cola, y `mod` x /= 0 ]) [2..]"
   ]
  },
  {
   "cell_type": "code",
   "execution_count": 7,
   "id": "2a0cb317",
   "metadata": {},
   "outputs": [
    {
     "data": {
      "text/plain": [
       "[2,3,5,7,11]"
      ]
     },
     "metadata": {},
     "output_type": "display_data"
    }
   ],
   "source": [
    "take 5 primos"
   ]
  }
 ],
 "metadata": {
  "kernelspec": {
   "display_name": "Haskell",
   "language": "haskell",
   "name": "haskell"
  },
  "language_info": {
   "codemirror_mode": "ihaskell",
   "file_extension": ".hs",
   "mimetype": "text/x-haskell",
   "name": "haskell",
   "pygments_lexer": "Haskell",
   "version": "8.10.7"
  }
 },
 "nbformat": 4,
 "nbformat_minor": 5
}
