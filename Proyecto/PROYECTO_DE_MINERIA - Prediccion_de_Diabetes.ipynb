{
  "nbformat": 4,
  "nbformat_minor": 0,
  "metadata": {
    "colab": {
      "name": "PROYECTO DE MINERIA.ipynb",
      "provenance": [],
      "collapsed_sections": []
    },
    "kernelspec": {
      "name": "python3",
      "display_name": "Python 3"
    },
    "language_info": {
      "name": "python"
    }
  },
  "cells": [
    {
      "cell_type": "markdown",
      "source": [
        "\n",
        "\n",
        "```\n",
        "                    PROYECTO MINERIA DE DATOS\n",
        "Integrantes:\n",
        "*   Carcausto Choquemamani Elizon Frank\n",
        "*   Deza Condori Rosmel Uriel\n",
        "*   Mallqui Apaza Nadiabeth Diana\n",
        "*   Quispe Leon Widmar Raul\n",
        "*   Sullca Peralta Melanie Indira\n",
        "\n",
        "Descripcion: El trabajo realizado esta dividido en 3 partes:\n",
        "*   Procesamiento de datos y reducción de dimensionalidad mediante matriz de correlación\n",
        "*   Implementacion del algoritmo Naive Bayes   \n",
        "*   Prediccion           \n",
        "\n",
        "Data: diabetes.csv\n",
        "\n",
        "```\n",
        "\n"
      ],
      "metadata": {
        "id": "iBDimeCBRnSC"
      }
    },
    {
      "cell_type": "markdown",
      "source": [
        "##**INSTALACIÓN PYPARK**"
      ],
      "metadata": {
        "id": "QfgRHuKrrNuU"
      }
    },
    {
      "cell_type": "code",
      "execution_count": null,
      "metadata": {
        "id": "6haC0PbnfUJ_"
      },
      "outputs": [],
      "source": [
        "# Instalar pySpark\n",
        "!apt-get install openjdk-8-jdk-headless -qq > /dev/null\n",
        "!wget -q https://dlcdn.apache.org/spark/spark-3.1.2/spark-3.1.2-bin-hadoop3.2.tgz\n",
        "!tar xf spark-3.1.2-bin-hadoop3.2.tgz\n",
        "!pip install -q findspark\n",
        "import os\n",
        "import findspark\n",
        "os.environ[\"JAVA_HOME\"] = \"/usr/lib/jvm/java-8-openjdk-amd64\"\n",
        "os.environ[\"SPARK_HOME\"] = \"/content/spark-3.1.2-bin-hadoop3.2\"\n",
        "findspark.init()"
      ]
    },
    {
      "cell_type": "code",
      "source": [
        "from pyspark.sql import SparkSession\n",
        "#Librerias necesarias\n",
        "from pyspark.sql import SparkSession\n",
        "import matplotlib.pyplot as plt\n",
        "import seaborn as sns\n",
        "from pyspark.sql.functions import isnan, when, count, col"
      ],
      "metadata": {
        "id": "vYzK4v_yfo7C"
      },
      "execution_count": null,
      "outputs": []
    },
    {
      "cell_type": "code",
      "source": [
        "#Si actualmente existe una SparkSession, se obtendrá directamente, de lo contrario se creará. (getOrCreate())\n",
        "spark = SparkSession.builder.appName(\"diabetes\").getOrCreate()"
      ],
      "metadata": {
        "id": "2PyH2wIrfr_i"
      },
      "execution_count": null,
      "outputs": []
    },
    {
      "cell_type": "markdown",
      "source": [
        "##**PREPROCESAMIENTO**"
      ],
      "metadata": {
        "id": "f2E1ZosLebO0"
      }
    },
    {
      "cell_type": "markdown",
      "source": [
        "En este proyecto se utilizó un dataset cuya información proviene originalmente del Instituto Nacional de Diabetes y Enfermedades Digestivas y Renales. Extraido de Kaggle https://www.kaggle.com/mathchi/diabetes-data-set.\n",
        "\n",
        "Contenido del dataset:\n",
        "* Número de Instancias: 768\n",
        "* Número de atributos: 8 más clase(outcome)\n",
        "* Para cada atributo: (todos con valores numéricos)\n",
        "* Pregnacies: Número de veces embarazadas\n",
        "* Glucose : Concentración de glucosa en plasma a las 2 horas en una prueba de tolerancia oral a la glucosa.\n",
        "* BloodPressure:  Presión arterial diastólica (mmHg)\n",
        "* SkinThickness: Grosor del pliegue cutáneo del tríceps (mm)\n",
        "* Insulin: Insulina sérica de 2 horas (mu U/ml)\n",
        "* BMI: Índice de masa corporal (peso en kg/(altura en m2))\n",
        "* DiabetesPedigreeFunction: Función de pedigrí de diabetes\n",
        "* Age: Edad (años)\n",
        "* Outcome: Variable de clase (0 o 1 positivo en la prueba de diabetes)\n",
        "\t\n",
        "El dataset muestra conocimiento de con qué niveles de glucosa, insulina, presión sanguínea y entre otras, se  determina si una persona tiene diabetes o no.\n"
      ],
      "metadata": {
        "id": "rSlX2aBBsOVV"
      }
    },
    {
      "cell_type": "markdown",
      "source": [
        "###a)**Lectura de datos y conversión**"
      ],
      "metadata": {
        "id": "sx9QjmQLsusJ"
      }
    },
    {
      "cell_type": "code",
      "source": [
        "#Leer archivo CSV y luego convertir a un Dataframe \n",
        "df = spark.read.csv(\"diabetes.csv\", header=True, inferSchema=True)\n",
        "#Mostrar 5 instancias del data\n",
        "df.show(5)"
      ],
      "metadata": {
        "id": "_hHPvi-Afwnw",
        "colab": {
          "base_uri": "https://localhost:8080/"
        },
        "outputId": "f9c44ede-16d2-47ee-fb4a-be4290a404b1"
      },
      "execution_count": null,
      "outputs": [
        {
          "output_type": "stream",
          "name": "stdout",
          "text": [
            "+-----------+-------+-------------+-------------+-------+----+------------------------+---+-------+\n",
            "|Pregnancies|Glucose|BloodPressure|SkinThickness|Insulin| BMI|DiabetesPedigreeFunction|Age|Outcome|\n",
            "+-----------+-------+-------------+-------------+-------+----+------------------------+---+-------+\n",
            "|          6|    148|           72|           35|      0|33.6|                   0.627| 50|      1|\n",
            "|          1|     85|           66|           29|      0|26.6|                   0.351| 31|      0|\n",
            "|          8|    183|           64|            0|      0|23.3|                   0.672| 32|      1|\n",
            "|          1|     89|           66|           23|     94|28.1|                   0.167| 21|      0|\n",
            "|          0|    137|           40|           35|    168|43.1|                   2.288| 33|      1|\n",
            "+-----------+-------+-------------+-------------+-------+----+------------------------+---+-------+\n",
            "only showing top 5 rows\n",
            "\n"
          ]
        }
      ]
    },
    {
      "cell_type": "markdown",
      "source": [
        "###b)**Observamos el tipo de datos**"
      ],
      "metadata": {
        "id": "WibIiEPOs2kl"
      }
    },
    {
      "cell_type": "code",
      "source": [
        "#Acceder al tipo de cada entidad, usando printSchema ()\n",
        "df.printSchema()"
      ],
      "metadata": {
        "id": "_QuNM7mZf8S3",
        "colab": {
          "base_uri": "https://localhost:8080/"
        },
        "outputId": "d0878246-7224-4240-d154-cf1a09771530"
      },
      "execution_count": null,
      "outputs": [
        {
          "output_type": "stream",
          "name": "stdout",
          "text": [
            "root\n",
            " |-- Pregnancies: integer (nullable = true)\n",
            " |-- Glucose: integer (nullable = true)\n",
            " |-- BloodPressure: integer (nullable = true)\n",
            " |-- SkinThickness: integer (nullable = true)\n",
            " |-- Insulin: integer (nullable = true)\n",
            " |-- BMI: double (nullable = true)\n",
            " |-- DiabetesPedigreeFunction: double (nullable = true)\n",
            " |-- Age: integer (nullable = true)\n",
            " |-- Outcome: integer (nullable = true)\n",
            "\n"
          ]
        }
      ]
    },
    {
      "cell_type": "markdown",
      "source": [
        "###c)**Valores faltantes en el data**"
      ],
      "metadata": {
        "id": "muSIPcfQs_u0"
      }
    },
    {
      "cell_type": "code",
      "source": [
        "\n",
        "from pyspark.sql.functions import isnan, when, count, col\n",
        "### Obtener el recuento de nan o valores faltantes en pyspark\n",
        "df.select([count(when(isnan(c),c)).alias(c) for c in df.columns]).toPandas()"
      ],
      "metadata": {
        "id": "3AYBo_BMgPKK",
        "colab": {
          "base_uri": "https://localhost:8080/",
          "height": 81
        },
        "outputId": "24a27809-80e0-4005-91b4-2b7190b11f6c"
      },
      "execution_count": null,
      "outputs": [
        {
          "output_type": "execute_result",
          "data": {
            "text/html": [
              "\n",
              "  <div id=\"df-b716d3d9-91e8-475f-89fb-5e5979f3c1ea\">\n",
              "    <div class=\"colab-df-container\">\n",
              "      <div>\n",
              "<style scoped>\n",
              "    .dataframe tbody tr th:only-of-type {\n",
              "        vertical-align: middle;\n",
              "    }\n",
              "\n",
              "    .dataframe tbody tr th {\n",
              "        vertical-align: top;\n",
              "    }\n",
              "\n",
              "    .dataframe thead th {\n",
              "        text-align: right;\n",
              "    }\n",
              "</style>\n",
              "<table border=\"1\" class=\"dataframe\">\n",
              "  <thead>\n",
              "    <tr style=\"text-align: right;\">\n",
              "      <th></th>\n",
              "      <th>Pregnancies</th>\n",
              "      <th>Glucose</th>\n",
              "      <th>BloodPressure</th>\n",
              "      <th>SkinThickness</th>\n",
              "      <th>Insulin</th>\n",
              "      <th>BMI</th>\n",
              "      <th>DiabetesPedigreeFunction</th>\n",
              "      <th>Age</th>\n",
              "      <th>Outcome</th>\n",
              "    </tr>\n",
              "  </thead>\n",
              "  <tbody>\n",
              "    <tr>\n",
              "      <th>0</th>\n",
              "      <td>0</td>\n",
              "      <td>0</td>\n",
              "      <td>0</td>\n",
              "      <td>0</td>\n",
              "      <td>0</td>\n",
              "      <td>0</td>\n",
              "      <td>0</td>\n",
              "      <td>0</td>\n",
              "      <td>0</td>\n",
              "    </tr>\n",
              "  </tbody>\n",
              "</table>\n",
              "</div>\n",
              "      <button class=\"colab-df-convert\" onclick=\"convertToInteractive('df-b716d3d9-91e8-475f-89fb-5e5979f3c1ea')\"\n",
              "              title=\"Convert this dataframe to an interactive table.\"\n",
              "              style=\"display:none;\">\n",
              "        \n",
              "  <svg xmlns=\"http://www.w3.org/2000/svg\" height=\"24px\"viewBox=\"0 0 24 24\"\n",
              "       width=\"24px\">\n",
              "    <path d=\"M0 0h24v24H0V0z\" fill=\"none\"/>\n",
              "    <path d=\"M18.56 5.44l.94 2.06.94-2.06 2.06-.94-2.06-.94-.94-2.06-.94 2.06-2.06.94zm-11 1L8.5 8.5l.94-2.06 2.06-.94-2.06-.94L8.5 2.5l-.94 2.06-2.06.94zm10 10l.94 2.06.94-2.06 2.06-.94-2.06-.94-.94-2.06-.94 2.06-2.06.94z\"/><path d=\"M17.41 7.96l-1.37-1.37c-.4-.4-.92-.59-1.43-.59-.52 0-1.04.2-1.43.59L10.3 9.45l-7.72 7.72c-.78.78-.78 2.05 0 2.83L4 21.41c.39.39.9.59 1.41.59.51 0 1.02-.2 1.41-.59l7.78-7.78 2.81-2.81c.8-.78.8-2.07 0-2.86zM5.41 20L4 18.59l7.72-7.72 1.47 1.35L5.41 20z\"/>\n",
              "  </svg>\n",
              "      </button>\n",
              "      \n",
              "  <style>\n",
              "    .colab-df-container {\n",
              "      display:flex;\n",
              "      flex-wrap:wrap;\n",
              "      gap: 12px;\n",
              "    }\n",
              "\n",
              "    .colab-df-convert {\n",
              "      background-color: #E8F0FE;\n",
              "      border: none;\n",
              "      border-radius: 50%;\n",
              "      cursor: pointer;\n",
              "      display: none;\n",
              "      fill: #1967D2;\n",
              "      height: 32px;\n",
              "      padding: 0 0 0 0;\n",
              "      width: 32px;\n",
              "    }\n",
              "\n",
              "    .colab-df-convert:hover {\n",
              "      background-color: #E2EBFA;\n",
              "      box-shadow: 0px 1px 2px rgba(60, 64, 67, 0.3), 0px 1px 3px 1px rgba(60, 64, 67, 0.15);\n",
              "      fill: #174EA6;\n",
              "    }\n",
              "\n",
              "    [theme=dark] .colab-df-convert {\n",
              "      background-color: #3B4455;\n",
              "      fill: #D2E3FC;\n",
              "    }\n",
              "\n",
              "    [theme=dark] .colab-df-convert:hover {\n",
              "      background-color: #434B5C;\n",
              "      box-shadow: 0px 1px 3px 1px rgba(0, 0, 0, 0.15);\n",
              "      filter: drop-shadow(0px 1px 2px rgba(0, 0, 0, 0.3));\n",
              "      fill: #FFFFFF;\n",
              "    }\n",
              "  </style>\n",
              "\n",
              "      <script>\n",
              "        const buttonEl =\n",
              "          document.querySelector('#df-b716d3d9-91e8-475f-89fb-5e5979f3c1ea button.colab-df-convert');\n",
              "        buttonEl.style.display =\n",
              "          google.colab.kernel.accessAllowed ? 'block' : 'none';\n",
              "\n",
              "        async function convertToInteractive(key) {\n",
              "          const element = document.querySelector('#df-b716d3d9-91e8-475f-89fb-5e5979f3c1ea');\n",
              "          const dataTable =\n",
              "            await google.colab.kernel.invokeFunction('convertToInteractive',\n",
              "                                                     [key], {});\n",
              "          if (!dataTable) return;\n",
              "\n",
              "          const docLinkHtml = 'Like what you see? Visit the ' +\n",
              "            '<a target=\"_blank\" href=https://colab.research.google.com/notebooks/data_table.ipynb>data table notebook</a>'\n",
              "            + ' to learn more about interactive tables.';\n",
              "          element.innerHTML = '';\n",
              "          dataTable['output_type'] = 'display_data';\n",
              "          await google.colab.output.renderOutput(dataTable, element);\n",
              "          const docLink = document.createElement('div');\n",
              "          docLink.innerHTML = docLinkHtml;\n",
              "          element.appendChild(docLink);\n",
              "        }\n",
              "      </script>\n",
              "    </div>\n",
              "  </div>\n",
              "  "
            ],
            "text/plain": [
              "   Pregnancies  Glucose  BloodPressure  ...  DiabetesPedigreeFunction  Age  Outcome\n",
              "0            0        0              0  ...                         0    0        0\n",
              "\n",
              "[1 rows x 9 columns]"
            ]
          },
          "metadata": {},
          "execution_count": 9
        }
      ]
    },
    {
      "cell_type": "markdown",
      "source": [
        "###d)**Agrupación de valores de salida**"
      ],
      "metadata": {
        "id": "fJ54HAqQtCb4"
      }
    },
    {
      "cell_type": "code",
      "source": [
        "#Agrupar los valores de salida, contar y mostrar\n",
        "df.groupby('Outcome').count().show()"
      ],
      "metadata": {
        "id": "QZ73hMjUgC1_",
        "colab": {
          "base_uri": "https://localhost:8080/"
        },
        "outputId": "c402cb85-f41d-4924-9895-840b63425924"
      },
      "execution_count": null,
      "outputs": [
        {
          "output_type": "stream",
          "name": "stdout",
          "text": [
            "+-------+-----+\n",
            "|Outcome|count|\n",
            "+-------+-----+\n",
            "|      1|  268|\n",
            "|      0|  500|\n",
            "+-------+-----+\n",
            "\n"
          ]
        }
      ]
    },
    {
      "cell_type": "markdown",
      "source": [
        "###e)**Información estadística**"
      ],
      "metadata": {
        "id": "W3GOW0E6tDfl"
      }
    },
    {
      "cell_type": "code",
      "source": [
        "#Devolver información estadística de los datos del dataframe \n",
        "#Esta información incluye el número de muestras, el valor medio, la desviación estándar, el valor mínimo, máximo, la mediana\n",
        "df.describe().toPandas()"
      ],
      "metadata": {
        "id": "3uimGV9Mf-cg",
        "colab": {
          "base_uri": "https://localhost:8080/",
          "height": 270
        },
        "outputId": "82913405-a9fd-4db3-8e4e-0b33c98fc3e2"
      },
      "execution_count": null,
      "outputs": [
        {
          "output_type": "execute_result",
          "data": {
            "text/html": [
              "\n",
              "  <div id=\"df-2aae944b-9c5a-4f59-915e-f101b90a7fc0\">\n",
              "    <div class=\"colab-df-container\">\n",
              "      <div>\n",
              "<style scoped>\n",
              "    .dataframe tbody tr th:only-of-type {\n",
              "        vertical-align: middle;\n",
              "    }\n",
              "\n",
              "    .dataframe tbody tr th {\n",
              "        vertical-align: top;\n",
              "    }\n",
              "\n",
              "    .dataframe thead th {\n",
              "        text-align: right;\n",
              "    }\n",
              "</style>\n",
              "<table border=\"1\" class=\"dataframe\">\n",
              "  <thead>\n",
              "    <tr style=\"text-align: right;\">\n",
              "      <th></th>\n",
              "      <th>summary</th>\n",
              "      <th>Pregnancies</th>\n",
              "      <th>Glucose</th>\n",
              "      <th>BloodPressure</th>\n",
              "      <th>SkinThickness</th>\n",
              "      <th>Insulin</th>\n",
              "      <th>BMI</th>\n",
              "      <th>DiabetesPedigreeFunction</th>\n",
              "      <th>Age</th>\n",
              "      <th>Outcome</th>\n",
              "    </tr>\n",
              "  </thead>\n",
              "  <tbody>\n",
              "    <tr>\n",
              "      <th>0</th>\n",
              "      <td>count</td>\n",
              "      <td>768</td>\n",
              "      <td>768</td>\n",
              "      <td>768</td>\n",
              "      <td>768</td>\n",
              "      <td>768</td>\n",
              "      <td>768</td>\n",
              "      <td>768</td>\n",
              "      <td>768</td>\n",
              "      <td>768</td>\n",
              "    </tr>\n",
              "    <tr>\n",
              "      <th>1</th>\n",
              "      <td>mean</td>\n",
              "      <td>3.8450520833333335</td>\n",
              "      <td>120.89453125</td>\n",
              "      <td>69.10546875</td>\n",
              "      <td>20.536458333333332</td>\n",
              "      <td>79.79947916666667</td>\n",
              "      <td>31.992578124999977</td>\n",
              "      <td>0.4718763020833327</td>\n",
              "      <td>33.240885416666664</td>\n",
              "      <td>0.3489583333333333</td>\n",
              "    </tr>\n",
              "    <tr>\n",
              "      <th>2</th>\n",
              "      <td>stddev</td>\n",
              "      <td>3.36957806269887</td>\n",
              "      <td>31.97261819513622</td>\n",
              "      <td>19.355807170644777</td>\n",
              "      <td>15.952217567727642</td>\n",
              "      <td>115.24400235133803</td>\n",
              "      <td>7.884160320375441</td>\n",
              "      <td>0.331328595012775</td>\n",
              "      <td>11.760231540678689</td>\n",
              "      <td>0.476951377242799</td>\n",
              "    </tr>\n",
              "    <tr>\n",
              "      <th>3</th>\n",
              "      <td>min</td>\n",
              "      <td>0</td>\n",
              "      <td>0</td>\n",
              "      <td>0</td>\n",
              "      <td>0</td>\n",
              "      <td>0</td>\n",
              "      <td>0.0</td>\n",
              "      <td>0.078</td>\n",
              "      <td>21</td>\n",
              "      <td>0</td>\n",
              "    </tr>\n",
              "    <tr>\n",
              "      <th>4</th>\n",
              "      <td>max</td>\n",
              "      <td>17</td>\n",
              "      <td>199</td>\n",
              "      <td>122</td>\n",
              "      <td>99</td>\n",
              "      <td>846</td>\n",
              "      <td>67.1</td>\n",
              "      <td>2.42</td>\n",
              "      <td>81</td>\n",
              "      <td>1</td>\n",
              "    </tr>\n",
              "  </tbody>\n",
              "</table>\n",
              "</div>\n",
              "      <button class=\"colab-df-convert\" onclick=\"convertToInteractive('df-2aae944b-9c5a-4f59-915e-f101b90a7fc0')\"\n",
              "              title=\"Convert this dataframe to an interactive table.\"\n",
              "              style=\"display:none;\">\n",
              "        \n",
              "  <svg xmlns=\"http://www.w3.org/2000/svg\" height=\"24px\"viewBox=\"0 0 24 24\"\n",
              "       width=\"24px\">\n",
              "    <path d=\"M0 0h24v24H0V0z\" fill=\"none\"/>\n",
              "    <path d=\"M18.56 5.44l.94 2.06.94-2.06 2.06-.94-2.06-.94-.94-2.06-.94 2.06-2.06.94zm-11 1L8.5 8.5l.94-2.06 2.06-.94-2.06-.94L8.5 2.5l-.94 2.06-2.06.94zm10 10l.94 2.06.94-2.06 2.06-.94-2.06-.94-.94-2.06-.94 2.06-2.06.94z\"/><path d=\"M17.41 7.96l-1.37-1.37c-.4-.4-.92-.59-1.43-.59-.52 0-1.04.2-1.43.59L10.3 9.45l-7.72 7.72c-.78.78-.78 2.05 0 2.83L4 21.41c.39.39.9.59 1.41.59.51 0 1.02-.2 1.41-.59l7.78-7.78 2.81-2.81c.8-.78.8-2.07 0-2.86zM5.41 20L4 18.59l7.72-7.72 1.47 1.35L5.41 20z\"/>\n",
              "  </svg>\n",
              "      </button>\n",
              "      \n",
              "  <style>\n",
              "    .colab-df-container {\n",
              "      display:flex;\n",
              "      flex-wrap:wrap;\n",
              "      gap: 12px;\n",
              "    }\n",
              "\n",
              "    .colab-df-convert {\n",
              "      background-color: #E8F0FE;\n",
              "      border: none;\n",
              "      border-radius: 50%;\n",
              "      cursor: pointer;\n",
              "      display: none;\n",
              "      fill: #1967D2;\n",
              "      height: 32px;\n",
              "      padding: 0 0 0 0;\n",
              "      width: 32px;\n",
              "    }\n",
              "\n",
              "    .colab-df-convert:hover {\n",
              "      background-color: #E2EBFA;\n",
              "      box-shadow: 0px 1px 2px rgba(60, 64, 67, 0.3), 0px 1px 3px 1px rgba(60, 64, 67, 0.15);\n",
              "      fill: #174EA6;\n",
              "    }\n",
              "\n",
              "    [theme=dark] .colab-df-convert {\n",
              "      background-color: #3B4455;\n",
              "      fill: #D2E3FC;\n",
              "    }\n",
              "\n",
              "    [theme=dark] .colab-df-convert:hover {\n",
              "      background-color: #434B5C;\n",
              "      box-shadow: 0px 1px 3px 1px rgba(0, 0, 0, 0.15);\n",
              "      filter: drop-shadow(0px 1px 2px rgba(0, 0, 0, 0.3));\n",
              "      fill: #FFFFFF;\n",
              "    }\n",
              "  </style>\n",
              "\n",
              "      <script>\n",
              "        const buttonEl =\n",
              "          document.querySelector('#df-2aae944b-9c5a-4f59-915e-f101b90a7fc0 button.colab-df-convert');\n",
              "        buttonEl.style.display =\n",
              "          google.colab.kernel.accessAllowed ? 'block' : 'none';\n",
              "\n",
              "        async function convertToInteractive(key) {\n",
              "          const element = document.querySelector('#df-2aae944b-9c5a-4f59-915e-f101b90a7fc0');\n",
              "          const dataTable =\n",
              "            await google.colab.kernel.invokeFunction('convertToInteractive',\n",
              "                                                     [key], {});\n",
              "          if (!dataTable) return;\n",
              "\n",
              "          const docLinkHtml = 'Like what you see? Visit the ' +\n",
              "            '<a target=\"_blank\" href=https://colab.research.google.com/notebooks/data_table.ipynb>data table notebook</a>'\n",
              "            + ' to learn more about interactive tables.';\n",
              "          element.innerHTML = '';\n",
              "          dataTable['output_type'] = 'display_data';\n",
              "          await google.colab.output.renderOutput(dataTable, element);\n",
              "          const docLink = document.createElement('div');\n",
              "          docLink.innerHTML = docLinkHtml;\n",
              "          element.appendChild(docLink);\n",
              "        }\n",
              "      </script>\n",
              "    </div>\n",
              "  </div>\n",
              "  "
            ],
            "text/plain": [
              "  summary         Pregnancies  ...                 Age             Outcome\n",
              "0   count                 768  ...                 768                 768\n",
              "1    mean  3.8450520833333335  ...  33.240885416666664  0.3489583333333333\n",
              "2  stddev    3.36957806269887  ...  11.760231540678689   0.476951377242799\n",
              "3     min                   0  ...                  21                   0\n",
              "4     max                  17  ...                  81                   1\n",
              "\n",
              "[5 rows x 10 columns]"
            ]
          },
          "metadata": {},
          "execution_count": 6
        }
      ]
    },
    {
      "cell_type": "markdown",
      "source": [
        "###f)**Distribución de  características**"
      ],
      "metadata": {
        "id": "5-sz6-SOtFAn"
      }
    },
    {
      "cell_type": "code",
      "source": [
        "#Distribucion de caracteristicas\n",
        "fig = plt.figure(figsize=(25, 15))\n",
        "st = fig.suptitle(\"Distribution of Features\", fontsize=50, verticalalignment=\"center\")\n",
        "for col, num in zip(df.toPandas().describe().columns, range(1,11)):\n",
        "  ax = fig.add_subplot(3,4, num)\n",
        "  ax.hist(df.toPandas()[col])\n",
        "  plt.grid(False)\n",
        "  plt.xticks(rotation=45, fontsize=20)\n",
        "  plt.yticks(fontsize=15)\n",
        "  plt.title(col.upper(), fontsize=20)\n",
        "\n",
        "plt.tight_layout()\n",
        "st.set_y(0.95)\n",
        "fig.subplots_adjust(top=0.85, hspace=0.4)\n",
        "plt.show()"
      ],
      "metadata": {
        "id": "hBYlICsHgIiY",
        "colab": {
          "base_uri": "https://localhost:8080/",
          "height": 584
        },
        "outputId": "ea6da1e0-00c7-4240-b6f4-578d6c099bd8"
      },
      "execution_count": null,
      "outputs": [
        {
          "output_type": "display_data",
          "data": {
            "image/png": "[encoded data removed]",
            "text/plain": [
              "<Figure size 1800x1080 with 9 Axes>"
            ]
          },
          "metadata": {
            "needs_background": "light"
          }
        }
      ]
    },
    {
      "cell_type": "code",
      "source": [
        "col_names = numeric_features_df.columns\n",
        "features = numeric_features_df.rdd.map(lambda row: row[0:])"
      ],
      "metadata": {
        "id": "DFMw7fYPgxiA"
      },
      "execution_count": null,
      "outputs": []
    },
    {
      "cell_type": "code",
      "source": [
        "from pyspark.mllib.stat import Statistics\n",
        "import pandas as pd"
      ],
      "metadata": {
        "id": "RJMqKJwugzNY"
      },
      "execution_count": null,
      "outputs": []
    },
    {
      "cell_type": "markdown",
      "source": [
        "###e)**Reducción de dimensionalidad-Matriz de correlación**"
      ],
      "metadata": {
        "id": "Lb5fip8ntHeQ"
      }
    },
    {
      "cell_type": "markdown",
      "source": [
        "Coeficiente de correlación Pearson: Número que denota la fuerza de la relación entre dos variables."
      ],
      "metadata": {
        "id": "6oNfUgEMt5vH"
      }
    },
    {
      "cell_type": "code",
      "source": [
        "#Matriz de correlacion con coeficiente de pearson\n",
        "#Para poder hacer comparaciones se estandariza la covarianza, generando\n",
        "corr_mat = Statistics.corr(features, method=\"pearson\")\n",
        "corr_df = pd.DataFrame(corr_mat)\n",
        "corr_df.index = col_names\n",
        "corr_df.columns = col_names\n",
        "round(corr_df, 2)"
      ],
      "metadata": {
        "id": "iaRXOG6kg05n",
        "colab": {
          "base_uri": "https://localhost:8080/",
          "height": 396
        },
        "outputId": "c575ba13-d252-4c95-f3be-4764bcbf2868"
      },
      "execution_count": null,
      "outputs": [
        {
          "output_type": "execute_result",
          "data": {
            "text/html": [
              "\n",
              "  <div id=\"df-4a43b579-e66f-47ee-a191-832a37c1dbcc\">\n",
              "    <div class=\"colab-df-container\">\n",
              "      <div>\n",
              "<style scoped>\n",
              "    .dataframe tbody tr th:only-of-type {\n",
              "        vertical-align: middle;\n",
              "    }\n",
              "\n",
              "    .dataframe tbody tr th {\n",
              "        vertical-align: top;\n",
              "    }\n",
              "\n",
              "    .dataframe thead th {\n",
              "        text-align: right;\n",
              "    }\n",
              "</style>\n",
              "<table border=\"1\" class=\"dataframe\">\n",
              "  <thead>\n",
              "    <tr style=\"text-align: right;\">\n",
              "      <th></th>\n",
              "      <th>Pregnancies</th>\n",
              "      <th>Glucose</th>\n",
              "      <th>BloodPressure</th>\n",
              "      <th>SkinThickness</th>\n",
              "      <th>Insulin</th>\n",
              "      <th>BMI</th>\n",
              "      <th>DiabetesPedigreeFunction</th>\n",
              "      <th>Age</th>\n",
              "      <th>Outcome</th>\n",
              "    </tr>\n",
              "  </thead>\n",
              "  <tbody>\n",
              "    <tr>\n",
              "      <th>Pregnancies</th>\n",
              "      <td>1.00</td>\n",
              "      <td>0.13</td>\n",
              "      <td>0.14</td>\n",
              "      <td>-0.08</td>\n",
              "      <td>-0.07</td>\n",
              "      <td>0.02</td>\n",
              "      <td>-0.03</td>\n",
              "      <td>0.54</td>\n",
              "      <td>0.22</td>\n",
              "    </tr>\n",
              "    <tr>\n",
              "      <th>Glucose</th>\n",
              "      <td>0.13</td>\n",
              "      <td>1.00</td>\n",
              "      <td>0.15</td>\n",
              "      <td>0.06</td>\n",
              "      <td>0.33</td>\n",
              "      <td>0.22</td>\n",
              "      <td>0.14</td>\n",
              "      <td>0.26</td>\n",
              "      <td>0.47</td>\n",
              "    </tr>\n",
              "    <tr>\n",
              "      <th>BloodPressure</th>\n",
              "      <td>0.14</td>\n",
              "      <td>0.15</td>\n",
              "      <td>1.00</td>\n",
              "      <td>0.21</td>\n",
              "      <td>0.09</td>\n",
              "      <td>0.28</td>\n",
              "      <td>0.04</td>\n",
              "      <td>0.24</td>\n",
              "      <td>0.07</td>\n",
              "    </tr>\n",
              "    <tr>\n",
              "      <th>SkinThickness</th>\n",
              "      <td>-0.08</td>\n",
              "      <td>0.06</td>\n",
              "      <td>0.21</td>\n",
              "      <td>1.00</td>\n",
              "      <td>0.44</td>\n",
              "      <td>0.39</td>\n",
              "      <td>0.18</td>\n",
              "      <td>-0.11</td>\n",
              "      <td>0.07</td>\n",
              "    </tr>\n",
              "    <tr>\n",
              "      <th>Insulin</th>\n",
              "      <td>-0.07</td>\n",
              "      <td>0.33</td>\n",
              "      <td>0.09</td>\n",
              "      <td>0.44</td>\n",
              "      <td>1.00</td>\n",
              "      <td>0.20</td>\n",
              "      <td>0.19</td>\n",
              "      <td>-0.04</td>\n",
              "      <td>0.13</td>\n",
              "    </tr>\n",
              "    <tr>\n",
              "      <th>BMI</th>\n",
              "      <td>0.02</td>\n",
              "      <td>0.22</td>\n",
              "      <td>0.28</td>\n",
              "      <td>0.39</td>\n",
              "      <td>0.20</td>\n",
              "      <td>1.00</td>\n",
              "      <td>0.14</td>\n",
              "      <td>0.04</td>\n",
              "      <td>0.29</td>\n",
              "    </tr>\n",
              "    <tr>\n",
              "      <th>DiabetesPedigreeFunction</th>\n",
              "      <td>-0.03</td>\n",
              "      <td>0.14</td>\n",
              "      <td>0.04</td>\n",
              "      <td>0.18</td>\n",
              "      <td>0.19</td>\n",
              "      <td>0.14</td>\n",
              "      <td>1.00</td>\n",
              "      <td>0.03</td>\n",
              "      <td>0.17</td>\n",
              "    </tr>\n",
              "    <tr>\n",
              "      <th>Age</th>\n",
              "      <td>0.54</td>\n",
              "      <td>0.26</td>\n",
              "      <td>0.24</td>\n",
              "      <td>-0.11</td>\n",
              "      <td>-0.04</td>\n",
              "      <td>0.04</td>\n",
              "      <td>0.03</td>\n",
              "      <td>1.00</td>\n",
              "      <td>0.24</td>\n",
              "    </tr>\n",
              "    <tr>\n",
              "      <th>Outcome</th>\n",
              "      <td>0.22</td>\n",
              "      <td>0.47</td>\n",
              "      <td>0.07</td>\n",
              "      <td>0.07</td>\n",
              "      <td>0.13</td>\n",
              "      <td>0.29</td>\n",
              "      <td>0.17</td>\n",
              "      <td>0.24</td>\n",
              "      <td>1.00</td>\n",
              "    </tr>\n",
              "  </tbody>\n",
              "</table>\n",
              "</div>\n",
              "      <button class=\"colab-df-convert\" onclick=\"convertToInteractive('df-4a43b579-e66f-47ee-a191-832a37c1dbcc')\"\n",
              "              title=\"Convert this dataframe to an interactive table.\"\n",
              "              style=\"display:none;\">\n",
              "        \n",
              "  <svg xmlns=\"http://www.w3.org/2000/svg\" height=\"24px\"viewBox=\"0 0 24 24\"\n",
              "       width=\"24px\">\n",
              "    <path d=\"M0 0h24v24H0V0z\" fill=\"none\"/>\n",
              "    <path d=\"M18.56 5.44l.94 2.06.94-2.06 2.06-.94-2.06-.94-.94-2.06-.94 2.06-2.06.94zm-11 1L8.5 8.5l.94-2.06 2.06-.94-2.06-.94L8.5 2.5l-.94 2.06-2.06.94zm10 10l.94 2.06.94-2.06 2.06-.94-2.06-.94-.94-2.06-.94 2.06-2.06.94z\"/><path d=\"M17.41 7.96l-1.37-1.37c-.4-.4-.92-.59-1.43-.59-.52 0-1.04.2-1.43.59L10.3 9.45l-7.72 7.72c-.78.78-.78 2.05 0 2.83L4 21.41c.39.39.9.59 1.41.59.51 0 1.02-.2 1.41-.59l7.78-7.78 2.81-2.81c.8-.78.8-2.07 0-2.86zM5.41 20L4 18.59l7.72-7.72 1.47 1.35L5.41 20z\"/>\n",
              "  </svg>\n",
              "      </button>\n",
              "      \n",
              "  <style>\n",
              "    .colab-df-container {\n",
              "      display:flex;\n",
              "      flex-wrap:wrap;\n",
              "      gap: 12px;\n",
              "    }\n",
              "\n",
              "    .colab-df-convert {\n",
              "      background-color: #E8F0FE;\n",
              "      border: none;\n",
              "      border-radius: 50%;\n",
              "      cursor: pointer;\n",
              "      display: none;\n",
              "      fill: #1967D2;\n",
              "      height: 32px;\n",
              "      padding: 0 0 0 0;\n",
              "      width: 32px;\n",
              "    }\n",
              "\n",
              "    .colab-df-convert:hover {\n",
              "      background-color: #E2EBFA;\n",
              "      box-shadow: 0px 1px 2px rgba(60, 64, 67, 0.3), 0px 1px 3px 1px rgba(60, 64, 67, 0.15);\n",
              "      fill: #174EA6;\n",
              "    }\n",
              "\n",
              "    [theme=dark] .colab-df-convert {\n",
              "      background-color: #3B4455;\n",
              "      fill: #D2E3FC;\n",
              "    }\n",
              "\n",
              "    [theme=dark] .colab-df-convert:hover {\n",
              "      background-color: #434B5C;\n",
              "      box-shadow: 0px 1px 3px 1px rgba(0, 0, 0, 0.15);\n",
              "      filter: drop-shadow(0px 1px 2px rgba(0, 0, 0, 0.3));\n",
              "      fill: #FFFFFF;\n",
              "    }\n",
              "  </style>\n",
              "\n",
              "      <script>\n",
              "        const buttonEl =\n",
              "          document.querySelector('#df-4a43b579-e66f-47ee-a191-832a37c1dbcc button.colab-df-convert');\n",
              "        buttonEl.style.display =\n",
              "          google.colab.kernel.accessAllowed ? 'block' : 'none';\n",
              "\n",
              "        async function convertToInteractive(key) {\n",
              "          const element = document.querySelector('#df-4a43b579-e66f-47ee-a191-832a37c1dbcc');\n",
              "          const dataTable =\n",
              "            await google.colab.kernel.invokeFunction('convertToInteractive',\n",
              "                                                     [key], {});\n",
              "          if (!dataTable) return;\n",
              "\n",
              "          const docLinkHtml = 'Like what you see? Visit the ' +\n",
              "            '<a target=\"_blank\" href=https://colab.research.google.com/notebooks/data_table.ipynb>data table notebook</a>'\n",
              "            + ' to learn more about interactive tables.';\n",
              "          element.innerHTML = '';\n",
              "          dataTable['output_type'] = 'display_data';\n",
              "          await google.colab.output.renderOutput(dataTable, element);\n",
              "          const docLink = document.createElement('div');\n",
              "          docLink.innerHTML = docLinkHtml;\n",
              "          element.appendChild(docLink);\n",
              "        }\n",
              "      </script>\n",
              "    </div>\n",
              "  </div>\n",
              "  "
            ],
            "text/plain": [
              "                          Pregnancies  Glucose  ...   Age  Outcome\n",
              "Pregnancies                      1.00     0.13  ...  0.54     0.22\n",
              "Glucose                          0.13     1.00  ...  0.26     0.47\n",
              "BloodPressure                    0.14     0.15  ...  0.24     0.07\n",
              "SkinThickness                   -0.08     0.06  ... -0.11     0.07\n",
              "Insulin                         -0.07     0.33  ... -0.04     0.13\n",
              "BMI                              0.02     0.22  ...  0.04     0.29\n",
              "DiabetesPedigreeFunction        -0.03     0.14  ...  0.03     0.17\n",
              "Age                              0.54     0.26  ...  1.00     0.24\n",
              "Outcome                          0.22     0.47  ...  0.24     1.00\n",
              "\n",
              "[9 rows x 9 columns]"
            ]
          },
          "metadata": {},
          "execution_count": 13
        }
      ]
    },
    {
      "cell_type": "markdown",
      "source": [
        "Gráfico: Para graficar la matriz, usaremos una biblioteca de visualización popular llamada seaborn.\n"
      ],
      "metadata": {
        "id": "QX1I5Q-utI6q"
      }
    },
    {
      "cell_type": "code",
      "source": [
        "#Mostrar mapa de calor que es una técnica de visualización de datos\n",
        "sns.heatmap(corr_df);"
      ],
      "metadata": {
        "id": "yqQJPXxzg3yX",
        "colab": {
          "base_uri": "https://localhost:8080/",
          "height": 390
        },
        "outputId": "041409bb-6163-4b36-822c-4aa5729e5ba0"
      },
      "execution_count": null,
      "outputs": [
        {
          "output_type": "display_data",
          "data": {
            "image/png": "[encoded data removed]",
            "text/plain": [
              "<Figure size 432x288 with 2 Axes>"
            ]
          },
          "metadata": {
            "needs_background": "light"
          }
        }
      ]
    },
    {
      "cell_type": "markdown",
      "source": [
        "Reducimos los atributos eligiendo los 5 valores con más correlación a la variable glucosa, variable escogida por ser uno de los indicadores de mayor trascendencia para determinar si una persona tiene diabetes.\n"
      ],
      "metadata": {
        "id": "aGSJmEdjtJ3k"
      }
    },
    {
      "cell_type": "code",
      "source": [
        "#Variables variables con correlacion alta con Glucose\n",
        "import numpy as np\n",
        "k = 5\n",
        "cols = corr_df.nlargest(k, 'Glucose')['Glucose'].index\n",
        "cm = np.corrcoef(corr_df[cols].values.T)\n",
        "sns.set(font_scale=1.25)\n",
        "hm = sns.heatmap(cm, cbar=True, annot=True, square=True, \n",
        "fmt='.2f', annot_kws={'size': 10}, yticklabels=cols.values, \n",
        "xticklabels=cols.values)\n",
        "plt.show()"
      ],
      "metadata": {
        "id": "l7whELMXpXqw",
        "colab": {
          "base_uri": "https://localhost:8080/",
          "height": 326
        },
        "outputId": "91b1139b-7fcf-48ae-ad78-2edee35b34be"
      },
      "execution_count": null,
      "outputs": [
        {
          "output_type": "display_data",
          "data": {
            "image/png": "[encoded data removed]",
            "text/plain": [
              "<Figure size 432x288 with 2 Axes>"
            ]
          },
          "metadata": {}
        }
      ]
    },
    {
      "cell_type": "markdown",
      "source": [
        "##**ALGORITMO NAIVE BAYES**\n"
      ],
      "metadata": {
        "id": "1UNs9w_2_6E_"
      }
    },
    {
      "cell_type": "code",
      "source": [
        "# Importamos la libreria collections para mostrar lo que tienen los RDD's\n",
        "import collections\n",
        "\n",
        "# Leemos el dataset en forma de data frame\n",
        "df_orig = spark.read.csv(\"diabetes.csv\", header=True, inferSchema=True)\n",
        "df_orig.show(5)"
      ],
      "metadata": {
        "colab": {
          "base_uri": "https://localhost:8080/"
        },
        "id": "J1nI43Zmx-vO",
        "outputId": "83479661-40b0-4b0e-8eb3-5a45d46740f0"
      },
      "execution_count": null,
      "outputs": [
        {
          "output_type": "stream",
          "name": "stdout",
          "text": [
            "+-----------+-------+-------------+-------------+-------+----+------------------------+---+-------+\n",
            "|Pregnancies|Glucose|BloodPressure|SkinThickness|Insulin| BMI|DiabetesPedigreeFunction|Age|Outcome|\n",
            "+-----------+-------+-------------+-------------+-------+----+------------------------+---+-------+\n",
            "|          6|    148|           72|           35|      0|33.6|                   0.627| 50|      1|\n",
            "|          1|     85|           66|           29|      0|26.6|                   0.351| 31|      0|\n",
            "|          8|    183|           64|            0|      0|23.3|                   0.672| 32|      1|\n",
            "|          1|     89|           66|           23|     94|28.1|                   0.167| 21|      0|\n",
            "|          0|    137|           40|           35|    168|43.1|                   2.288| 33|      1|\n",
            "+-----------+-------+-------------+-------------+-------+----+------------------------+---+-------+\n",
            "only showing top 5 rows\n",
            "\n"
          ]
        }
      ]
    },
    {
      "cell_type": "code",
      "source": [
        "'''\n",
        "Creamos el RDD a partir del data frame\n",
        "al mismo tiempo de damos un formato de: \n",
        "CLAVE-VALOR, donde:\n",
        "  CLAVE: la columna de salida 'Outcome'\n",
        "  VALOR: el resdo de columnas\n",
        "''' \n",
        "rdd = df_orig.rdd.map(lambda x:  tuple(x))\n",
        "rdd = rdd.map(lambda x: (x[8], (x[1], x[4], x[7], x[5])))\n",
        "\n",
        "# extraemos el numero de datos\n",
        "# y mostramos como queda el RDD\n",
        "n = len(rdd.collect())\n",
        "print(\"Total de datos: \", n)\n",
        "print(\"RDD:\")\n",
        "rdd.collect()[:6]"
      ],
      "metadata": {
        "id": "AaYdRaGLD0LS",
        "colab": {
          "base_uri": "https://localhost:8080/"
        },
        "outputId": "97131d02-184c-465a-88e1-3cbf4d4cf2d7"
      },
      "execution_count": null,
      "outputs": [
        {
          "output_type": "stream",
          "name": "stdout",
          "text": [
            "Total de datos:  768\n",
            "RDD:\n"
          ]
        },
        {
          "output_type": "execute_result",
          "data": {
            "text/plain": [
              "[(1, (148, 0, 50, 33.6)),\n",
              " (0, (85, 0, 31, 26.6)),\n",
              " (1, (183, 0, 32, 23.3)),\n",
              " (0, (89, 94, 21, 28.1)),\n",
              " (1, (137, 168, 33, 43.1)),\n",
              " (0, (116, 0, 30, 25.6))]"
            ]
          },
          "metadata": {},
          "execution_count": 25
        }
      ]
    },
    {
      "cell_type": "markdown",
      "source": [
        "###**Algoritmo Naive Bayes**\n",
        "1. Convertir el conjunto de datos en una tabla de frecuencias. \n",
        "2. Crear una tabla de probabilidad calculando las correspondientes a que ocurran los diversos eventos. \n",
        "3. La ecuación Naive Bayes se usa para calcular la probabilidad posterior de cada clase.\n",
        "![13.JPG](data:image/jpeg;base64,/9j/4AAQSkZJRgABAQEAYABgAAD/4RDoRXhpZgAATU0AKgAAAAgABAE7AAIAAAAKAAAISodpAAQAAAABAAAIVJydAAEAAAAUAAAQzOocAAcAAAgMAAAAPgAAAAAc6gAAAAgAAAAAAAAAAAAAAAAAAAAAAAAAAAAAAAAAAAAAAAAAAAAAAAAAAAAAAAAAAAAAAAAAAAAAAAAAAAAAAAAAAAAAAAAAAAAAAAAAAAAAAAAAAAAAAAAAAAAAAAAAAAAAAAAAAAAAAAAAAAAAAAAAAAAAAAAAAAAAAAAAAAAAAAAAAAAAAAAAAAAAAAAAAAAAAAAAAAAAAAAAAAAAAAAAAAAAAAAAAAAAAAAAAAAAAAAAAAAAAAAAAAAAAAAAAAAAAAAAAAAAAAAAAAAAAAAAAAAAAAAAAAAAAAAAAAAAAAAAAAAAAAAAAAAAAAAAAAAAAAAAAAAAAAAAAAAAAAAAAAAAAAAAAAAAAAAAAAAAAAAAAAAAAAAAAAAAAAAAAAAAAAAAAAAAAAAAAAAAAAAAAAAAAAAAAAAAAAAAAAAAAAAAAAAAAAAAAAAAAAAAAAAAAAAAAAAAAAAAAAAAAAAAAAAAAAAAAAAAAAAAAAAAAAAAAAAAAAAAAAAAAAAAAAAAAAAAAAAAAAAAAAAAAAAAAAAAAAAAAAAAAAAAAAAAAAAAAAAAAAAAAAAAAAAAAAAAAAAAAAAAAAAAAAAAAAAAAAAAAAAAAAAAAAAAAAAAAAAAAAAAAAAAAAAAAAAAAAAAAAAAAAAAAAAAAAAAAAAAAAAAAAAAAAAAAAAAAAAAAAAAAAAAAAAAAAAAAAAAAAAAAAAAAAAAAAAAAAAAAAAAAAAAAAAAAAAAAAAAAAAAAAAAAAAAAAAAAAAAAAAAAAAAAAAAAAAAAAAAAAAAAAAAAAAAAAAAAAAAAAAAAAAAAAAAAAAAAAAAAAAAAAAAAAAAAAAAAAAAAAAAAAAAAAAAAAAAAAAAAAAAAAAAAAAAAAAAAAAAAAAAAAAAAAAAAAAAAAAAAAAAAAAAAAAAAAAAAAAAAAAAAAAAAAAAAAAAAAAAAAAAAAAAAAAAAAAAAAAAAAAAAAAAAAAAAAAAAAAAAAAAAAAAAAAAAAAAAAAAAAAAAAAAAAAAAAAAAAAAAAAAAAAAAAAAAAAAAAAAAAAAAAAAAAAAAAAAAAAAAAAAAAAAAAAAAAAAAAAAAAAAAAAAAAAAAAAAAAAAAAAAAAAAAAAAAAAAAAAAAAAAAAAAAAAAAAAAAAAAAAAAAAAAAAAAAAAAAAAAAAAAAAAAAAAAAAAAAAAAAAAAAAAAAAAAAAAAAAAAAAAAAAAAAAAAAAAAAAAAAAAAAAAAAAAAAAAAAAAAAAAAAAAAAAAAAAAAAAAAAAAAAAAAAAAAAAAAAAAAAAAAAAAAAAAAAAAAAAAAAAAAAAAAAAAAAAAAAAAAAAAAAAAAAAAAAAAAAAAAAAAAAAAAAAAAAAAAAAAAAAAAAAAAAAAAAAAAAAAAAAAAAAAAAAAAAAAAAAAAAAAAAAAAAAAAAAAAAAAAAAAAAAAAAAAAAAAAAAAAAAAAAAAAAAAAAAAAAAAAAAAAAAAAAAAAAAAAAAAAAAAAAAAAAAAAAAAAAAAAAAAAAAAAAAAAAAAAAAAAAAAAAAAAAAAAAAAAAAAAAAAAAAAAAAAAAAAAAAAAAAAAAAAAAAAAAAAAAAAAAAAAAAAAAAAAAAAAAAAAAAAAAAAAAAAAAAAAAAAAAAAAAAAAAAAAAAAAAAAAAAAAAAAAAAAAAAAAAAAAAAAAAAAAAAAAAAAAAAAAAAAAAAAAAAAAAAAAAAAAAAAAAAAAAAAAAAAAAAAAAAAAAAAAAAAAAAAAAAAAAAAAAAAAAAAAAAAAAAAAAAAAAAAAAAAAAAAAAAAAAAAAAAAAAAAAAAAAAAAAAAAAAAAAAAAAAAAAAAAAAAAAAAAAAAAAAAAAAAAAAAAAAAAAAAAAAAAAAAAAAAAAAAAAAAAAAAAAAAAAAAAAAAAAAAAAAAAAAAAAAAAAAAAAAAAAAAAAAAAAAAAAAAAAAAAAAAAAAAAAAAAAAAAAAAAAAAAAAAAAAAAAAAAAAAAAAAAAAAAAAAAAAAAAAAAAAAAAAAAAAAAAAAAAAAAAAAAAAAAAAAAAAAAAAAAAAAAAAAAAAAAAAAAAAAAAAAAAAAAAAAAAAAAAAAAAAAAAAAAAAAAAAAAAAAAAAAAAAAAAAAAAAAAAAAAAAAAAAAAAAAAAAAAAAAAAAAAAAAAAAAAAAAAAAAAAAAAAAAAAAAAAAAAAAAAAAAAAAAAAAAAAAAAAAAAAAAAAAAAAAAAAAAAAAAAAAAAAAAAAAAAAAAAAAAAAAAAAAAAAAAAAAAAAAAAAAAAAAAAAAAAAAAAAAAAAAAAAAAAAAAAAAAAAAAAAAAAAAAAAAAAAAAAAAAAAAAAAAAAAAAAAAAAAAAAAAAAAAAAAAAAAAAAAAAAAAAAAAAAAAAAAAAAAAAAAAAAAAAAAAAAAAAAAAAAAAAAAAAAAAAAAAAAAAAAAAAAAAAAAAAAAAAAAAAAAAAAAAAAAAAAAAAAAAAAAAAAAAAAAAAAAAAAAAAAAAAAAAAAAAAAAAAAAAAAAAAAAAAAAAAAAAAAAAAAAAAAAAAAAAAAAAAAAAAAAAAAAAAAAAAAAAAAAAAAAAAAAAAAAAAAAAAAAAAAAAAAAAAAAAAAAAAAAAAAAAAAAAAAAAAAAAAAAAAAAAAAAAAAAAAAAAAAAAAAAAAAAAAAAAAAAAAAAAAAAAAAAAAAAAAAAAAAAAAAAAAAAAAAAAAAAAAAAAAAAAAAAAAAAAAAAAAAAAAAAAAAAAAAAAAAAAAAAAAAAAAAAAAAAAE1lbGFuaWUgKgAABZADAAIAAAAUAAAQopAEAAIAAAAUAAAQtpKRAAIAAAADNzUAAJKSAAIAAAADNzUAAOocAAcAAAgMAAAIlgAAAAAc6gAAAAgAAAAAAAAAAAAAAAAAAAAAAAAAAAAAAAAAAAAAAAAAAAAAAAAAAAAAAAAAAAAAAAAAAAAAAAAAAAAAAAAAAAAAAAAAAAAAAAAAAAAAAAAAAAAAAAAAAAAAAAAAAAAAAAAAAAAAAAAAAAAAAAAAAAAAAAAAAAAAAAAAAAAAAAAAAAAAAAAAAAAAAAAAAAAAAAAAAAAAAAAAAAAAAAAAAAAAAAAAAAAAAAAAAAAAAAAAAAAAAAAAAAAAAAAAAAAAAAAAAAAAAAAAAAAAAAAAAAAAAAAAAAAAAAAAAAAAAAAAAAAAAAAAAAAAAAAAAAAAAAAAAAAAAAAAAAAAAAAAAAAAAAAAAAAAAAAAAAAAAAAAAAAAAAAAAAAAAAAAAAAAAAAAAAAAAAAAAAAAAAAAAAAAAAAAAAAAAAAAAAAAAAAAAAAAAAAAAAAAAAAAAAAAAAAAAAAAAAAAAAAAAAAAAAAAAAAAAAAAAAAAAAAAAAAAAAAAAAAAAAAAAAAAAAAAAAAAAAAAAAAAAAAAAAAAAAAAAAAAAAAAAAAAAAAAAAAAAAAAAAAAAAAAAAAAAAAAAAAAAAAAAAAAAAAAAAAAAAAAAAAAAAAAAAAAAAAAAAAAAAAAAAAAAAAAAAAAAAAAAAAAAAAAAAAAAAAAAAAAAAAAAAAAAAAAAAAAAAAAAAAAAAAAAAAAAAAAAAAAAAAAAAAAAAAAAAAAAAAAAAAAAAAAAAAAAAAAAAAAAAAAAAAAAAAAAAAAAAAAAAAAAAAAAAAAAAAAAAAAAAAAAAAAAAAAAAAAAAAAAAAAAAAAAAAAAAAAAAAAAAAAAAAAAAAAAAAAAAAAAAAAAAAAAAAAAAAAAAAAAAAAAAAAAAAAAAAAAAAAAAAAAAAAAAAAAAAAAAAAAAAAAAAAAAAAAAAAAAAAAAAAAAAAAAAAAAAAAAAAAAAAAAAAAAAAAAAAAAAAAAAAAAAAAAAAAAAAAAAAAAAAAAAAAAAAAAAAAAAAAAAAAAAAAAAAAAAAAAAAAAAAAAAAAAAAAAAAAAAAAAAAAAAAAAAAAAAAAAAAAAAAAAAAAAAAAAAAAAAAAAAAAAAAAAAAAAAAAAAAAAAAAAAAAAAAAAAAAAAAAAAAAAAAAAAAAAAAAAAAAAAAAAAAAAAAAAAAAAAAAAAAAAAAAAAAAAAAAAAAAAAAAAAAAAAAAAAAAAAAAAAAAAAAAAAAAAAAAAAAAAAAAAAAAAAAAAAAAAAAAAAAAAAAAAAAAAAAAAAAAAAAAAAAAAAAAAAAAAAAAAAAAAAAAAAAAAAAAAAAAAAAAAAAAAAAAAAAAAAAAAAAAAAAAAAAAAAAAAAAAAAAAAAAAAAAAAAAAAAAAAAAAAAAAAAAAAAAAAAAAAAAAAAAAAAAAAAAAAAAAAAAAAAAAAAAAAAAAAAAAAAAAAAAAAAAAAAAAAAAAAAAAAAAAAAAAAAAAAAAAAAAAAAAAAAAAAAAAAAAAAAAAAAAAAAAAAAAAAAAAAAAAAAAAAAAAAAAAAAAAAAAAAAAAAAAAAAAAAAAAAAAAAAAAAAAAAAAAAAAAAAAAAAAAAAAAAAAAAAAAAAAAAAAAAAAAAAAAAAAAAAAAAAAAAAAAAAAAAAAAAAAAAAAAAAAAAAAAAAAAAAAAAAAAAAAAAAAAAAAAAAAAAAAAAAAAAAAAAAAAAAAAAAAAAAAAAAAAAAAAAAAAAAAAAAAAAAAAAAAAAAAAAAAAAAAAAAAAAAAAAAAAAAAAAAAAAAAAAAAAAAAAAAAAAAAAAAAAAAAAAAAAAAAAAAAAAAAAAAAAAAAAAAAAAAAAAAAAAAAAAAAAAAAAAAAAAAAAAAAAAAAAAAAAAAAAAAAAAAAAAAAAAAAAAAAAAAAAAAAAAAAAAAAAAAAAAAAAAAAAAAAAAAAAAAAAAAAAAAAAAAAAAAAAAAAAAAAAAAAAAAAAAAAAAAAAAAAAAAAAAAAAAAAAAAAAAAAAAAAAAAAAAAAAAAAAAAAAAAAAAAAAAAAAAAAAAAAAAAAAAAAAAAAAAAAAAAAAAAAAAAAAAAAAAAAAAAAAAAAAAAAAAAAAAAAAAAAAAAAAAAAAAAAAAAAAAAAAAAAAAAAAAAAAAAAAAAAAAAAAAAAAAAAAAAAAAAAAAAAAAAAAAAAAAAAAAAAAAAAAAAAAAAAAAAAAAAAAAAAAAAAAAAAAAAAAAAAAAAAAAAAAAAAAAAAAAAAAAAAAAAAAAAAAAAAAAAAAAAAAAAAAAAAAAAAAAAAAAAAAAAAAAAAAAAAAAAAAAAAAAAAAAAAAAAAAAAAAAAAAAAAAAAAAAAAAAAAAAAAAAAAAAAAAAAAAAAAAAAAAAAAAAAAAAAAAAAAAAAAAAAAAAAAAAAAAAAAAAAAAAAAAAAAAAAAAAAAAAAAAAAAAAAAAAAAAAAAAAAAAAAAAAAAAAAAAAAAAAAAAAAAAAAAAAAAAAAAAAAAAAAAAAAAAAAAAAAAAAAAAAAAAAAAAAAAAAAAAAAAAAAAAAAAAAAAAAAAAAAAAAAAAAAAAAAAAAAAAAAAAAAAAAAAAAAAAAAAAAAAAAAAAAAAAAAAAAAAAAAAAAAAAAAAAAAAAAAAAAAAAAAAAAAAAAAAAAAAAAAAAAAAAAAAAAAAAAAAAAAAAAAAAAAAAAAAAAAAAAAAAAAAAAAAAAAAAAAAAAAAAAAAAAAAAAAAAAAAAAAAAAAAAAAAAAAAAAAAAAAAAAAAAAAAAAAAAAAAAAAAADIwMjI6MDI6MDggMDA6NDU6MzMAMjAyMjowMjowOCAwMDo0NTozMwAAAE0AZQBsAGEAbgBpAGUAIAAqAAAA/+ELHGh0dHA6Ly9ucy5hZG9iZS5jb20veGFwLzEuMC8APD94cGFja2V0IGJlZ2luPSfvu78nIGlkPSdXNU0wTXBDZWhpSHpyZVN6TlRjemtjOWQnPz4NCjx4OnhtcG1ldGEgeG1sbnM6eD0iYWRvYmU6bnM6bWV0YS8iPjxyZGY6UkRGIHhtbG5zOnJkZj0iaHR0cDovL3d3dy53My5vcmcvMTk5OS8wMi8yMi1yZGYtc3ludGF4LW5zIyI+PHJkZjpEZXNjcmlwdGlvbiByZGY6YWJvdXQ9InV1aWQ6ZmFmNWJkZDUtYmEzZC0xMWRhLWFkMzEtZDMzZDc1MTgyZjFiIiB4bWxuczpkYz0iaHR0cDovL3B1cmwub3JnL2RjL2VsZW1lbnRzLzEuMS8iLz48cmRmOkRlc2NyaXB0aW9uIHJkZjphYm91dD0idXVpZDpmYWY1YmRkNS1iYTNkLTExZGEtYWQzMS1kMzNkNzUxODJmMWIiIHhtbG5zOnhtcD0iaHR0cDovL25zLmFkb2JlLmNvbS94YXAvMS4wLyI+PHhtcDpDcmVhdGVEYXRlPjIwMjItMDItMDhUMDA6NDU6MzMuNzQ2PC94bXA6Q3JlYXRlRGF0ZT48L3JkZjpEZXNjcmlwdGlvbj48cmRmOkRlc2NyaXB0aW9uIHJkZjphYm91dD0idXVpZDpmYWY1YmRkNS1iYTNkLTExZGEtYWQzMS1kMzNkNzUxODJmMWIiIHhtbG5zOmRjPSJodHRwOi8vcHVybC5vcmcvZGMvZWxlbWVudHMvMS4xLyI+PGRjOmNyZWF0b3I+PHJkZjpTZXEgeG1sbnM6cmRmPSJodHRwOi8vd3d3LnczLm9yZy8xOTk5LzAyLzIyLXJkZi1zeW50YXgtbnMjIj48cmRmOmxpPk1lbGFuaWUgKjwvcmRmOmxpPjwvcmRmOlNlcT4NCgkJCTwvZGM6Y3JlYXRvcj48L3JkZjpEZXNjcmlwdGlvbj48L3JkZjpSREY+PC94OnhtcG1ldGE+DQogICAgICAgICAgICAgICAgICAgICAgICAgICAgICAgICAgICAgICAgICAgICAgICAgICAgICAgICAgICAgICAgICAgICAgICAgICAgICAgICAgICAgICAgICAgICAgICAgICAgCiAgICAgICAgICAgICAgICAgICAgICAgICAgICAgICAgICAgICAgICAgICAgICAgICAgICAgICAgICAgICAgICAgICAgICAgICAgICAgICAgICAgICAgICAgICAgICAgICAgICAKICAgICAgICAgICAgICAgICAgICAgICAgICAgICAgICAgICAgICAgICAgICAgICAgICAgICAgICAgICAgICAgICAgICAgICAgICAgICAgICAgICAgICAgICAgICAgICAgICAgIAogICAgICAgICAgICAgICAgICAgICAgICAgICAgICAgICAgICAgICAgICAgICAgICAgICAgICAgICAgICAgICAgICAgICAgICAgICAgICAgICAgICAgICAgICAgICAgICAgICAgCiAgICAgICAgICAgICAgICAgICAgICAgICAgICAgICAgICAgICAgICAgICAgICAgICAgICAgICAgICAgICAgICAgICAgICAgICAgICAgICAgICAgICAgICAgICAgICAgICAgICAKICAgICAgICAgICAgICAgICAgICAgICAgICAgICAgICAgICAgICAgICAgICAgICAgICAgICAgICAgICAgICAgICAgICAgICAgICAgICAgICAgICAgICAgICAgICAgICAgICAgIAogICAgICAgICAgICAgICAgICAgICAgICAgICAgICAgICAgICAgICAgICAgICAgICAgICAgICAgICAgICAgICAgICAgICAgICAgICAgICAgICAgICAgICAgICAgICAgICAgICAgCiAgICAgICAgICAgICAgICAgICAgICAgICAgICAgICAgICAgICAgICAgICAgICAgICAgICAgICAgICAgICAgICAgICAgICAgICAgICAgICAgICAgICAgICAgICAgICAgICAgICAKICAgICAgICAgICAgICAgICAgICAgICAgICAgICAgICAgICAgICAgICAgICAgICAgICAgICAgICAgICAgICAgICAgICAgICAgICAgICAgICAgICAgICAgICAgICAgICAgICAgIAogICAgICAgICAgICAgICAgICAgICAgICAgICAgICAgICAgICAgICAgICAgICAgICAgICAgICAgICAgICAgICAgICAgICAgICAgICAgICAgICAgICAgICAgICAgICAgICAgICAgCiAgICAgICAgICAgICAgICAgICAgICAgICAgICAgICAgICAgICAgICAgICAgICAgICAgICAgICAgICAgICAgICAgICAgICAgICAgICAgICAgICAgICAgICAgICAgICAgICAgICAKICAgICAgICAgICAgICAgICAgICAgICAgICAgICAgICAgICAgICAgICAgICAgICAgICAgICAgICAgICAgICAgICAgICAgICAgICAgICAgICAgICAgICAgICAgICAgICAgICAgIAogICAgICAgICAgICAgICAgICAgICAgICAgICAgICAgICAgICAgICAgICAgICAgICAgICAgICAgICAgICAgICAgICAgICAgICAgICAgICAgICAgICAgICAgICAgICAgICAgICAgCiAgICAgICAgICAgICAgICAgICAgICAgICAgICAgICAgICAgICAgICAgICAgICAgICAgICAgICAgICAgICAgICAgICAgICAgICAgICAgICAgICAgICAgICAgICAgICAgICAgICAKICAgICAgICAgICAgICAgICAgICAgICAgICAgICAgICAgICAgICAgICAgICAgICAgICAgICAgICAgICAgICAgICAgICAgICAgICAgICAgICAgICAgICAgICAgICAgICAgICAgIAogICAgICAgICAgICAgICAgICAgICAgICAgICAgICAgICAgICAgICAgICAgICAgICAgICAgICAgICAgICAgICAgICAgICAgICAgICAgICAgICAgICAgICAgICAgICAgICAgICAgCiAgICAgICAgICAgICAgICAgICAgICAgICAgICAgICAgICAgICAgICAgICAgICAgICAgICAgICAgICAgICAgICAgICAgICAgICAgICAgICAgICAgICAgICAgICAgICAgICAgICAKICAgICAgICAgICAgICAgICAgICAgICAgICAgICAgICAgICAgICAgICAgICAgICAgICAgICAgICAgICAgICAgICAgICAgICAgICAgICAgICAgICAgICAgICAgICAgICAgICAgIAogICAgICAgICAgICAgICAgICAgICAgICAgICAgICAgICAgICAgICAgICAgICAgICAgICAgICAgICAgICAgICAgICAgICAgICAgICAgICAgICAgICAgICAgICAgICAgICAgICAgCiAgICAgICAgICAgICAgICAgICAgICAgICAgICAgICAgICAgICAgICAgICAgICAgICAgICAgICAgICAgICAgICAgICAgICAgICAgICAgICAgICAgICAgICAgICAgICAgICAgICAKICAgICAgICAgICAgICAgICAgICAgICAgICAgIDw/eHBhY2tldCBlbmQ9J3cnPz7/2wBDAAcFBQYFBAcGBQYIBwcIChELCgkJChUPEAwRGBUaGRgVGBcbHichGx0lHRcYIi4iJSgpKywrGiAvMy8qMicqKyr/2wBDAQcICAoJChQLCxQqHBgcKioqKioqKioqKioqKioqKioqKioqKioqKioqKioqKioqKioqKioqKioqKioqKioqKir/wAARCAFMAXsDASIAAhEBAxEB/8QAHwAAAQUBAQEBAQEAAAAAAAAAAAECAwQFBgcICQoL/8QAtRAAAgEDAwIEAwUFBAQAAAF9AQIDAAQRBRIhMUEGE1FhByJxFDKBkaEII0KxwRVS0fAkM2JyggkKFhcYGRolJicoKSo0NTY3ODk6Q0RFRkdISUpTVFVWV1hZWmNkZWZnaGlqc3R1dnd4eXqDhIWGh4iJipKTlJWWl5iZmqKjpKWmp6ipqrKztLW2t7i5usLDxMXGx8jJytLT1NXW19jZ2uHi4+Tl5ufo6erx8vP09fb3+Pn6/8QAHwEAAwEBAQEBAQEBAQAAAAAAAAECAwQFBgcICQoL/8QAtREAAgECBAQDBAcFBAQAAQJ3AAECAxEEBSExBhJBUQdhcRMiMoEIFEKRobHBCSMzUvAVYnLRChYkNOEl8RcYGRomJygpKjU2Nzg5OkNERUZHSElKU1RVVldYWVpjZGVmZ2hpanN0dXZ3eHl6goOEhYaHiImKkpOUlZaXmJmaoqOkpaanqKmqsrO0tba3uLm6wsPExcbHyMnK0tPU1dbX2Nna4uPk5ebn6Onq8vP09fb3+Pn6/9oADAMBAAIRAxEAPwD3bW9W1W01aw0/RbCzu5bqKaVmu7toFQRmMcbY3yT5nt0qD7X40/6Aug/+Dib/AORqmvv+R60b/ryvP/QoK3KAOd+1+NP+gLoP/g4m/wDkaj7X40/6Aug/+Dib/wCRq6KigDnftfjT/oC6D/4OJv8A5Go+1+NP+gLoP/g4m/8AkauiooA537X40/6Aug/+Dib/AORqPtfjT/oC6D/4OJv/AJGroqKAOd+1+NP+gLoP/g4m/wDkaj7X40/6Aug/+Dib/wCRq6KigDnftfjT/oC6D/4OJv8A5Go+1+NP+gLoP/g4m/8AkauiooA537X40/6Aug/+Dib/AORqPtfjT/oC6D/4OJv/AJGroqKAOd+1+NP+gLoP/g4m/wDkaj7X40/6Aug/+Dib/wCRq6KigDnftfjT/oC6D/4OJv8A5Go+1+NP+gLoP/g4m/8AkauiooA537X40/6Aug/+Dib/AORqPtfjT/oC6D/4OJv/AJGroqKAOd+1+NP+gLoP/g4m/wDkaj7X40/6Aug/+Dib/wCRq6KigDnftfjT/oC6D/4OJv8A5Go+1+NP+gLoP/g4m/8AkauiooA537X40/6Aug/+Dib/AORqPtfjT/oC6D/4OJv/AJGros0UAc79r8af9AXQf/BxN/8AI1H2vxp/0BdB/wDBxN/8jV0VFAHO/a/Gn/QF0H/wcTf/ACNR9r8af9AXQf8AwcTf/I1dFRQBzv2vxp/0BdB/8HE3/wAjUfa/Gn/QF0H/AMHE3/yNXRVmX/iPRNMmMGo6vY2kuM+XPcKjY+hNAGadR8Xq21tI8PhvQ6zN/wDI1P8AtnjP/oC6D/4OJv8A5Grnr+48O3/iRNVbxNo5CSxlUa6ThFB469STmurt/Fnh26nSC213TppXOFjjukZmPoADQBV+1+NP+gLoP/g4m/8Akaj7X40/6Aug/wDg4m/+Rq6KigDnftfjT/oC6D/4OJv/AJGo+1+NP+gLoP8A4OJv/kauiooA537X40/6Aug/+Dib/wCRqPtfjT/oC6D/AODib/5GroqKAOd+1+NP+gLoP/g4m/8Akaj7X40/6Aug/wDg4m/+Rq6KigDnftfjT/oC6D/4OJv/AJGo+1+NP+gLoP8A4OJv/kauiooA537X40/6Aug/+Dib/wCRqPtfjT/oC6D/AODib/5GroqKAMHStX1iXXpdN1vT7G1ZbYXEb2d484YbipB3Rpj9a3qwx/yUBv8AsFj/ANGmtygDDvv+R60b/ryvP/QoK3Kw77/ketG/68rz/wBCgrcoAKKKKACiiigAooooAKKKKACiiigAooooAKKKKACiiigAooooAKKKKACsbxZrLeH/AArqGqx+XutYTIokBIYjoOPU8Vs1wHxWE2oaTp2hwQXEqahfRLctFEzBIQcsWIHGcAUmAth421aDVPD9prlra51qBpP9GLA25C5+YHOR78VuQeK7ZtCvNeunWHSYAxSQ9XVeC34noKP+ES0y0s7mTTrUC8ktWhjnkkaR1BXAAZiSB7CuHu9Ev9a+AcWl6fEz3luqiW3H3nMb5ZPrxQI6m01nxRrOgvq+m2dnao8ZktbS5VmklXGRuIICk+mDXT2U0x0+GS/VYpmQGRQeFbHIrF0TxLZX1jaQWEFy04RVeFoGQw4GDu3AAYrR8Qae+p6PJbRWtndM2P3V5nyz9cAmmNF8XEJOBKhP+8KWSVIkLyMEVRksxwBXB2Pgq6t7+CZvDvhiIRuGLwiTevuPl61a8cvcDVvD8c0czaQbpmvTGhYZC/IGA/hz/SgDb1PXo7TTX1K0liubW3b/AEny23FV7kEenXFeV/tEQ2V/4c8N3SxRyiXUYwJNoJZGxxn0r0LXYbC38E65dWlp5H2y3kLgptaVyu0HB9eK8w+L1pNY/DHwVa3WfOivbdXz68UAex2fhzRE0+BV0ewAEa8fZk9PpXkfw80qwtv2jfGKW9nDGkCKYlWMAJk84HavbrX/AI8of+ua/wAq8d8B/wDJyHjb/rmn86APQvHviS68LeGvt2nxwzXLTxwxRSg4dmbAHBrOh8b3On+JrjSNfjtwIdP+3Nc22QEHdWU5wfTnmqPj23fX/GfhrRJLe5ewjna6upURwgKj5FLr0OeetXvF3hS0g8Da2mi2YW7uIMvJuZ5JQpBwWYkngdM0ulw62Om0rUJLvS0vrxVgSVfMVSfuIemT64qxbalZXrslpdQzsgywjcMR9cVwfiK8kuLbwpb+VcPpFwwa7a3iZ87UG1GCgnBP8ql8IXDQ33iPWL+xks3lvBGiyL5YKLhUALYBzT6iO8mmSCF5ZDtRFLMT2Arn9G8TGXwfJr+tmO2twHmBAxtiBO3Pvim+Npbl/Cz2tlG7T6g6Wy7RnaHPzE49FzzWf8QPDd1qHwtu9G0WPdKsKBIl48wKQSv4gUhk1hrfiXXtDfWNLtbO1gkQvaW90rNJMvYsQQEz6c10unzXD6XBNqSJDcNGDKin5VbuKwvD3iWzutKsrWzt7k3KRqklu0DIYSBg7sgAYrZ1iza/0ee2jt7a4aRcCK6z5bf72KbBFr7TAekqf99CnvIkaF3YKoGST0FefW/ge7iuI3PhvwqgVgdyCTcOeo+XrV/x8bpV0SLy5TpjXq/2gYULYQDKggc7d2M0Abuo65HDps19p8sN1Ha/NOqMGO0dcY7gc1o2d3FfWcV1bOHimUOjDuDWBepptv4b1fULW0EH2i3cyMYyhlwmBwfwAqTwHZ3Gn+BdJtrwETR26hgeooAlH/JQG/7BY/8ARprcrDH/ACUBv+wWP/RprcoAw77/AJHrRv8AryvP/QoK3Kw77/ketG/68rz/ANCgrbY4HFAC0V51/wALOuo9K1XV5dHibTNMvTaySx3JLSAMFLqCuDyema66DXo73VFsrJPMZYlmnYnHlKwyo+p9KANeiuXh8WTaxq93YeGrSO7Sxfy7i7mlKRK/9xcAliO/atLQdS1DUbadtV09bGaGZogqybw4H8QOBwaANaik3D1FLmgAopnmoW2h1LDqM81kXOuOniy00aCFZPMgaed93+rUHC/mc/lQBtUUxpUT77Kv1NOVgy5BBB6EUALRRmmedGG2l13emeaAH0UUUAFFFFABRTGmjQ4Z1B9Cad1FAC0VmR6uo1x9LuVEc5TzYTniVM4OPcdxWlketAC0mKXIPQ0UAGKrwWMNvczTQrsaY5cA8E+uPWrFFABiiiigAoxRRQBWurGC8Mf2ld6xtvVSeM9iR3ryT49w6jq9po9houj6hqEtrepcym3tmZVUY/ixgn2r2SqGtX40zRbq7IyYoyQAcZPQDP1oAbpeoJc6FFd+TcRKIgWjlhZZBgcjaRnNeQ+CW1C2+O3iPV7vQtWt9P1QBLe4ks3C5B78cD616QviK6t5obQ2TSblTdKzOTz9I8frVnwleT3mlzPdTNM63UqBmxnAYgDigDdxQRkUtFAFezsobGNo7ddiFi23PAz6elVtZ0n+1rRIPO8pVmSRvlzuCnOPzxWjRQAgXCgUYpaKAExS0UUAFGKKKAK93YwXqolym9FYNsJ4JHTI71YAwMCiigDDH/JQG/7BY/8ARprcrDH/ACUBv+wWP/RprcoAw77/AJHrRv8AryvP/QoKl8VaumheGNQ1FzgwQOye7Y4A/Gor7/ketG/68rz/ANCgrbZQ33hmk9QPOPAfgbTrnwJpT6o892ZMXckDTnyTKx3ZKjrg+tXfDlvcQ+LPGMD/ACTyyo8BP9wxALj2BrugoUYHAqpLpsMmox3o3JOi7Cy/xr6H1FNgeefCzVLDw/4Sk0nWJ0tNVgupftFvKcSOxckEDq2e2K9Ijfz7Tf5bLvXIVvlP/wBan+RGZBIY1LjoxAyPxqSgDzeXwxqDSuw8LswLE5/4SOcZ/DtW7rtxqGhfDS6m0+1aG9t7X5IhKZzGemdx5bA5/CuroIyOaOgHJ+F7DRJ4rG+sZPtN3Bb4e4VydxcAtuPQnPryKb4TU6lr2ua5IPlln+y25P8Azzj4z+Jya6xY0QYRQo9AMULGqjCgAegoEeM63ro1HS/Es9+DLfNef2fBbEH/AESLeF347Z5Oe9en6PfWsRi0e3DiS2tY3+ZCBtPA/lWsYU5OwZPXjrWXFpU0fim41MunlS2yQhOdwIJOf1oGY+ueNLd/But6h4ek+03GnBomGwgxydOQR2zmuW0p7G68Z+Gra3Y3K29o95Le4LG4lbA698c/SvT7ewt7YytGnzTNvkJOdxqYRIv3VAIGBxQBmWHiCC+1C5shBcQTW6CQiaPbvQ9GHtwaq2vjbQ7yC3mt7zelzcm1jPltzIOqkY46d6m0qw1ODUbq51JrN/N4VoVbdgdAc9hWja2FvaRlYY8bnLsTySx6nNAGY/i/R47eed7oiOC6FpIfLbiUnAXp+vShvFNjO+q22nyGe90yMvLBsIOduQB659q2vKT+6OuelQxWMEV3Lcqn72UAMxOeB0H0pAeOwX9vrVj4aF05u73U9QFxe3G0nytuSIh6YOBt9q9lSaLdsEi7v7uead5SD7qAY5HFc1ZeFJLbxN/a0kscjNJK7fLz82MAfQCmBS8Rxyz/ABN8MC2zuiS4eYjshAHP41Z8VaPdajdwvb6Ob8KmC41WS1289ML1+tdBBpsEOoTXuC9xKApkY5KqOij0FXKAOT8KaPdadeTPcaObAMgAc6rJdbvba3T61qXNnrsly7WurWkMJPyI9iXIHufMGfyrYooAw/sHiT/oN2X/AILm/wDjtH2DxJ/0G7L/AMFzf/Ha3KKAMP7B4k/6Ddl/4Lm/+O0fYPEn/Qcsv/Bc3/x2tykagDD+w+JP+g5Y/wDgub/47R9h8Sf9Byx/8Fzf/Ha5DUPE1+/jnX7WPXxYabpVmr4ZIz++IJxyMkdOKveHfF2q61Z6HY3kQtdSvbdrq4ITG2JTgEA9C36UAdF9g8Sf9Byy/wDBc3/x2mSaV4gmjMc2sWEiHqraYSD+Hm1a1HxFpmkeYt7c7Whj82UKjOUT+820HA+tX7S6ivbSK5t23xSqHRsEZB6daAMgad4jC4Gt2IHp/Zrf/Hajh0jXrdStvq2nxKTkhNLIBPrxLXQk4GTxWKfFmj/bILZbss9xKYYSsbFZHHUBsYOPrQA37B4k/wCg3Zf+C5v/AI7R9g8Sf9Buy/8ABc3/AMdrcFFAGH9g8Sf9Buy/8Fzf/HaPsHiT/oN2X/gub/47W5RmgDD+weJP+g3Zf+C5v/jtH2DxJ/0G7L/wXN/8dp154s0ewlZLi7+7KsLMkbMokY4CkgYz7Vs5yuaAMT7B4k/6Dlj/AOC5v/jtH2DxJ/0G7L/wXN/8dpj6y+n+LoNKu33x6hG0lsxH3WX7yfkQRW/QBh/YPEn/AEG7L/wXN/8AHaPsHiT/AKDdl/4Lm/8AjtblFAGH9g8Sf9Buy/8ABc3/AMdq/p8N/DGw1K7hunJ+VooDEAPoWartFAGGP+SgN/2Cx/6NNblYY/5KA3/YLH/o01uUAYd9/wAj1o3/AF5Xn/oUFblYd9/yPWjf9eV5/wChQVuUAFFFFABRRRQAUUUUAFFFFABRRRQAUUUUAFFFFABRRRQAUUUUAFFFFABRRRQAUUUUAFMlYpGzKpcgZCr1PtT6KAOC8A+GZ4RquoeJtKjTUb6/kn/fKkhVM/LgjPbFXL+xey+KFhqzDFrcWTWZbsjhtwH45P5V2OKjmginj2TRq65zhhmgDyy80TxPLpfiK2XS5Hu9R1AF7kypiS33DCrzkYUY5xXdabfzJrLaO1ukSW9nHIpV8nkkY6e1bgUAYAqkmlQprMmphpPPkiETAn5doORxj3oA5u/1LW9f8K+ILWy057LUId9vb5mVvN4+8GHAJH5GsrTNI1g+IPDrNpD2umabZsNkkibllOBk4J9OMeteiqiqMKoAznAFKy5Xjj3oAxNM1LU5tWvbO+toQkCq8ckDkg5/hOR1/wAaqad4k1a/toZP+Efljc3jW8ym4QiJBn95n+IewrT0vRE0uaaRb28uPNOSs8gYKc9sAVpKiouFUKPQCgDDk1fWFt7h00GV3juhFHH9oT95Hn/W57D261GusalfX2saamnNbSW0Oba4MqsspZTjp93nsa6LApojRSSqgE9SB1pAeVaboHiA6d4ZsptHkiitbs3GoGWVCZJOfnyCeMnPr7V6DF4j06XVjpiSsbpWKldjYBABIzjHcVrYHpWTb+G7K11IX0XmCbdI5Jbglzkk0wMTWLN9V+I2htBymlxyzTsOilwAq/XgmuxqOOCKEsY41UudzEDqfU1JR0AKKKKACiiigDDH/JQG/wCwWP8A0aa3Kwx/yUBv+wWP/RprcoAw77/ketG/68rz/wBCgrcrDvv+R60b/ryvP/QoK3KACiiigAooooAKKKKACiiigAooooAKKKKACiiigAoprHaCfSufsfG2kX0yRpNJF5nmeW0sZVX8v7+D04oA6KismfxFZW62wZneW7z5EKIS8g9QPT3PFOs9etrt1QrNAzSNGFnjKZZeo9/60AalFAooAKKRnVFLOwVQMkk4Arnf+EjvNUkZPDFit3Epwb64fy4M/wCyQCX/AAGPegDo6K5/7F4rf5m1nTYz/cTT3YfmZc0x9Q8SaX8+o2FvqduPvSaflJFHr5TE5/BifagDo6Kp6Zqtpq9mLmxmWWMnBxwVPcEdQR6GrlABRRRQAUUUUAFFFFABRRRQAUUUUAFFFFABRRRQAUUUUAFFFFAGGP8AkoDf9gsf+jTW5WGP+SgN/wBgsf8Ao01uUAYd9/yPWjf9eV5/6FBW5WHff8j1o3/Xlef+hQVuUAFFFFABRRRQAUUUUAFFFFABRRRQAUUUUAFFFFAFHWftg0e7/s2LzrowsIU3AZbHHJIHWuQXwJHbeBvJjhkOqpaFFMkpfaxIZgoyQM4xxXe0YoA4mCwvofF0GuQWb3trJp6WyrGyhoGByeGI4Pt6Vo+Ire51BdKt4k8u4F4k7hTny1UHJJ/HFdIAB0o2jOe9ACjpRRQTigDmdTD+I9cbRwzDTrQB73acecx5WLPpjk+vSujjjjghVI1CIgwFAwABWD4QHmWF3dty9xeSux/4FgD8qzvifcXVv4OJtndImuYkunQ4Kwlhv5HQY60AdZHeW0z7IriN29FcE1MRmsK30fQUuNPurSC2imhQi3eIBSykDI46it2gDmddtDot5/wkGnLtwQL+Fek0fTfj+8vr6V0cMqzQrJGdyOAykdwabcwpcWssMoykiFWHqCMVkeDZWl8KWe85KKUz64OKANyiiigAooooAKKKKACiiigAooooAKKKKACiiigAooooAKKKKAMMf8lAb/sFj/0aa3Kwx/yUBv8AsFj/ANGmtygDDvv+R60b/ryvP/QoK3Kw77/ketG/68rz/wBCgrcoAKKKKACiiigAooooAKKKKACiiigAooooAKKKKACiiigAooooAKKKzta1iHRrAzyBpJGOyGFfvSueiigDO8OuLHVNU0mThknNxF/tRuc8fQ5Fb8kUc0bJKiujDDKwyCPQiueu9K1K/sbTUd0FtrdupZdmfLYHrE3cg+vY81Y0zxNbXU/2LUAdP1FR81rcEAn3Q9GHuKAL9loumaaxbT9PtrYnjMUQXj04q7SbgehqjqeuadpEIk1C6SLdwiZyzn0VRyT7CgBuvaiul6Lc3J++EKxr/ec8KPzIpPD1idN0C0tX+/HGN31PJrMtLS98QajFqWqwtbWVu260s5Pvs3/PSQdj6L271a03Wpjq0+lasiQ3akvAyZCTx9iue46EUAbdFFFABRRRQAUUUUAFFFFABRRRQAUUUUAFFFFABRRRQAUUUUAYY/5KA3/YLH/o01uVhj/koDf9gsf+jTW5QBh33/I9aN/15Xn/AKFBW5WHff8AI9aN/wBeV5/6FBW5QAUUUUAFFFFABRRRQAUUUUAFFFFABRRRQAUUUUAFFFFABRRTZJFijZ5CFVRkknAAoAhv76306xlu7yQRwxLuZjWHo1lcarqA17V4yjFSLK2b/lgh/iP+2e/p0qG2RvF2ppfTAjR7V82sTD/j5cf8tCP7o7fnXUgYFAC4rF8WQ2b+Gb2S+tYbhY4mKLKgYBsYGM984rarn/F582ysrBet5eRoR/sg7j/6DQBU0rwRpqaTarK9+H8pS4XUJ1BOPQPxWvp3hvSNKmM1lYxJMeszZeQ/8DbLfrWmowoA6AUtABWXruirq9qvlyfZ7uBvMtrhRzG/9QehHcVqUUAY+gay2oxy218nkalanZcw+h7MPVT1BrYrC1/SZ5pY9V0ghNStR8oPAnTvG317Hsau6Nq8GsaetxBuVslZIm4aNx1Uj1FAGhRRRQAUUUUAFFFFABRRRQAUUUUAFFFFABRRRQAUUUUAYY/5KA3/AGCx/wCjTW5WGP8AkoDf9gsf+jTW5QBh33/I9aN/15Xn/oUFblYd9/yPWjf9eV5/6FBW5QAUUUUAFFFFABRRRQAUUUUAFFFFABRRRQAUUUUAFFFFAATgVyt7I/ivUpNMtXK6Vbti9mU/65h/yyU+n94/h61PreoXF/ff2Fo8myd13XVwv/LtGf8A2Y9vzrZ06wt9M0+K0s4wkUYwAO/ufegCeKJIYUjiUIiDaqqMACn0UUAFc7ff6Z460+AcrZ27zsPdjtH8jXRVzuhf6X4o1y+6qki2qH2Qc/qTQB0VFFFABRRRQAGua1izn0bUG13SozICAL+1T/lsg/jUf3x+orpaCMigCCyvYNQs4rq0kWSGVQysp6ip65SZW8IakbmIE6LdPmdB0tZD/GP9knr6GupRxIgdCCrDIIPWgB1FFFABRRRQAUUUUAFFFFABRRRQAUUUUAFFFFAGGP8AkoDf9gsf+jTW5WGP+SgN/wBgsf8Ao01uUAYd9/yPWjf9eV5/6FBW5WHff8j1o3/Xlef+hQVuUAFFFFABRRRQAUUUUAFFFFABRRRQAUUUUAFFFFABWLr+sy2Xl2GmoJtTu8iBD0Qd5G/2R+vSrGt6xFo9j5rqZZZD5cECfelc9FH+eKraBo8toZNQ1NxLqd1gzOOkY7Rr7CgCzoejRaPY+WrmaeRvMuJ3+9K56sa0qKKACiiigCOeVYIHlkOFjUsx9gM1h+ComHhuK4lGJLt3uH+rMTUnjK4Nv4TvQh+edRAn1chf61qWFsLTT4LdekUap+QoAsUUUUAFFFFABRRRQAyaGO4heGZFeORSrKwyCD2rmbCWTwtqaaTeOz6bO2LGdz/qz/zyY/yPpXU1U1PTrfVLCW0vE3xSDB9QexB7EetAFsHIorndD1G4tL06FrL7rqNd1vOeBcx+v+8O4roqACiiigAooooAKKKKACiiigAooooAKKKKAMMf8lAb/sFj/wBGmtysMf8AJQG/7BY/9GmtygDDvv8AketG/wCvK8/9CgrcrDvv+R60b/ryvP8A0KCtygAooooAKKKKACiiigAooooAKKKKACiiigAqtqF/b6ZYy3d5II4Y1yxP8h6mppJUijZ5HVVUbmJOAB61zFmj+LNSTUblWXSbZ82cTD/XsP8Alqw9P7o/GgCfRbC41G//ALe1iMpKwK2ls3/LtGe5/wBs9z+FdHQBiigAooooAKKKCcdaAOb8Tn7Vq2h6cORJdGdx6rGv+LCukFc1GRffEWVs5TT7NUHs7nJ/TFdLQAUUUUAFFFFABRRRQAUUUUAZmuaNHrFmFDmG5hbzLe4X70Tjofp2I7iodB1mS+WSz1BBBqVqdtxF2Po6+qmtmsTX9HmuWj1LSiI9Ttf9WTwJV7xt7H9DQBt0VnaLrEOsaeJ4wY3UlJoX4aJx1UitGgAooooAKKKKACiiigAooooAKKKKAMMf8lAb/sFj/wBGmtysMf8AJQG/7BY/9GmtygDDvv8AketG/wCvK8/9CgrcrDvv+R60b/ryvP8A0KCtygAooooAKKKKACiiigAoorL1zWRpUMccERub24bZb26nBdvUnso7mgC/cXUFpC011NHDEgyzyMFA/E1hnxppchI09bzUP9qztJJU/wC+wNv60WfhhbiZb3xJINSvM7lRx+4gPoidP+BHJrfVFUAKMAdAO1AGD/wl0Sc3Gk6xCv8AeNg7Af8AfINXdN8RaVqzMljexSSr96EnbIv1U4I/EVp4rO1PQtO1dAL62V3TmOVflkjPqrjkH6GgDx3xhb+P9f8AjC0Phq0mfQbdI4rpbiQxW84HLAnvz6V7dbIY7dEKLGVUDYnReOgrnre8vfD1/FY6xM11Yztstr5x8yt2STHGfRu/eumBz0oAKKKKACkJA6mqWratbaPZG4uixyQscaDLyMeiqO5rHTStW17E2uXMljatythZyFGx/wBNJByT7LgfWgDZvNZ0zTv+P/ULW2/67TKn8zVJvEPh/VYJbW31qwmMqFNsV0hPIx2NTWXhrRdO5s9LtYm7uIgWP1Y8n8as3Gk6fdxmO7sbedD1WSJWH6igDx74N+CPFGkeItX1PXNVvRYid4re1klLCYA4DnOeAOle2DpXOyeEYbT974cuZdImHIjiO6BvYxHjH+7tPvU2la5M96dL1qFbXUVXcoQ5jnX+8h/mDyKANyiiigAooooAKKKKACiiigAoIzRRQB4j8X9N8f2/iCLVPB1mw0xWje7+wykyz7Tn50+nHGc969l065+1aZbTsCpkiVirDBBIqtrOsQaRbK0itLNK2yG3jGXlb0A/r0FZkeh6jrP77xHeSRRNyun2UhjRR6O4wzn6ED2oA1rzXNJ044v9StLY/wDTadU/majtfEuh3smyz1iwnf8AuxXKMf0NLZeHdH05cWOl2kB7lIVBP1OMmpbrRtMvo9l5p9rOvpLCrD9RQBcDKehBpa5yTwqbD974ZvJNOcc/Z2YyW7exQn5f+A4/GrWj6615cSWGpQfY9ShGXhJyrr/fQ/xL+o70AbNFFFABRRRQAUUUUAYY/wCSgN/2Cx/6NNblYY/5KA3/AGCx/wCjTW5QBh33/I9aN/15Xn/oUFblYd9/yPWjf9eV5/6FBW5QAUUUUAFFFFABRRRQAVzmjINS8S6pqc3zCCT7Hb5/hVfvY+rV0dc94ZYW9/rFg/EkV40oHqr/ADA/rQB0PSuTfxdLF48i0mWFBp86NHFcZ5adeWT8j+hrqZlkaJhCwRyDtYjIB9cd647UPh7FeaTapHNbwarb3C3P9pLaDezg5JI3Z56daXUDsI7iKWV445VZ48b1B5X6ipKxtM067tte1C7uApjuEjCsp+8VXB47Vs0wKmqafFqmlz2dwMrKhXP909iPcHmqXha9kvvDtvJcHMyZik/3lOD/ACrUnmS3geWZgqIpZiewHWsXwbG6+HI5pFKm5kefB7BmJFAG9QelFB6UAc1p0f8AbXii71Gf5oLBzbWqnoGH33+uePwrpOBXP+DzssbyBv8AWRX0wf67ic1uXJmW2kNsgklCkopOAT2GaAMeDxVaTeMJ9A2Os0cIlWQ/dk55A9x3rcDA159e+D9XT+ydVsJXfVbW582aKWZRGVf/AFiggZ9MfSt3Q5Fl8SXxhurtk2BXhnLlQ4Jyy5GAO2BxxQB0tY/iTTDqGll7f5by1PnW0g6q47fQ9D9a2KZM6xxM7nCqCST6CgCpo2oDVNItrxRjzYwxHoe9XqwPBSsvhW1LDAfc6g+hY4rfoA5iXXtYupLufRbG3msbN2RjLIRJOV+9sAGBj361u6dfRalp8N5AcxzIGXPauX0fW7Hw9pN7p+qTpDc2csmInOGmUklSo/izntW14UtJbLwzaQ3C7JNm5lP8OTnFAGwelcvJr+s3JurvR7G3m0+zdkYyyEST7fvbABgY7Z6+1dQelcZpGuWPh/Q7vT9SmSG7spHUQscPKCSVKjvuz2oA6rT72PUdPhu4DmOZAy596snpWR4Vs5bDwxZQXA2yLHllPbPOK1nGVI9aAOXl8Q6xcC5vdJsLebTrV2U+ZIRLOF+8UAGPpnr7V0NleR39hDd25zHMgdT7GuS0rXLLQvD9zp+oTJFeWTOn2djh5ck7do6ndkVveG7KWx8L2VrONsqxDcPQnnFAFLQoxq+sXeuXHzhXa3sweiRqcFh7se9dGeBWB4KYf8IzDF0eF3jkHowY5rV1Q3Y02f8As6NZLooREGbaM/WgDN0nxVaar4g1LSY0dJbEr8zDiVT/ABL7A5H4Vug5rgZfCOp6VrWj6tpEkk0tvG0N4k8q4MZ54wOSG5rb8LazqWqNOupwLEUVWQrEydRyOSc4oA6OsLxTYmTTxqNoNt7p+ZomHUgfeT6Ef0rdqrqU0cGl3UsxwiQuzZ9MGgB1hdrfWEN1H92VA4/EVYrI8KRPD4V09JOGEI4PategAooooAKKKKAMMf8AJQG/7BY/9GmtysMf8lAb/sFj/wBGmtygDDvv+R60b/ryvP8A0KCtysO+/wCR60b/AK8rz/0KCtygAooooAKKKKACiiigArA1vT7uC+j1rSE8y6hXZNb5x9oi67c/3h1H5Vv0YzQBQ0rWrLWLXzrKTJU7ZI2GHjburKeQav1j6l4astQuftaGWzvQMC7tX2SfQ9mHswNVhZeKbT5bfVLG+QdPtVu0b/iyHH/jooA6GkZgikscAdzWAR4vl4/4k9t/tZll/TC/zpv/AAi8+oEHxFqs2oJ/z7Rr5MB+qg5b6MxFAFe8u28W3B03TGJ0tGxeXg+7Jg/6pD39z07V1EUaxRrHGoVVACgdhTYYIreFYoI1ijQYVEGAo9hUlABRRRQBzOos3hzXH1YKTp12At5tGfJccCT6Y4Pp1ro4Zo5olkicOjDKspyCKV0DoVYBgwwQRwa55vDt5pUjS+GL1beNjlrG4UvAT/s45T8Mj2oA6PFGMVzo1zW7b5b7w3cSEdXsriORT/30VP6Up8SahJxb+GNVZv8ApoYUX8zJQB0JOK5rXr19VuD4f0tt0sgH2yVelvEeoJ/vN0A/Gla28Sax8t3PBo9sfvJat5szD03kBV/AH61r6XpNppFr9nsYRGmdzEklnbuzE8k+5oAs28EdrbRwQrtSNQqj0AqSiigCGS0tppkllgieSP7jsgJX6HtU2MdKKKACoZLS2lmSaWCN5U+47ICy/Q9qmooAAMdKKKKAIZLS2lmSaWCN5U+67ICy/Q1NiiigDl55P+EW12W5kyNJ1BwZHA4tpumT6K3r2NdMjq6hkIYEZBHekmhjniaKZFkjcYZWGQR6EVzw0HUtHJPhu9QW/X7BeZaMeyOPmT6cj2oA6QjPWjGK50a9rFv8t94ZvGYdWs5opVP0yyn9KU+I9Rl4tfDGpluxmaGNfz35/SgDoScVzGsXX/CQ339hac26BGB1Cdfuoo58sH+8e/oPrT20/wAQayNuqXUWmWp+9BYuXlYehkIGPwGfetrT9NtNLs0tbGBYYU6Kvc+pPc+9AFiNFjjVEGFUYA9BTqKKACiiigAooooAwx/yUBv+wWP/AEaa3Kwx/wAlAb/sFj/0aa3KAMO+/wCR60b/AK8rz/0KCtysO+/5HrRv+vK8/wDQoK3KACiiigAooooAKKQnAzWLa+L9Gvb0WsF03mtK8Kh4nQM6/eUMQASPY0AbdFV7e9huoTLA26MEjf2OPQ0zTtUtNWtBdafMs8JYqHXoSDg0AW6KqtqNumpJYlj9oeMyBQP4QcZNUZvFOlwvKvmySCFxHK8MLyKjE4wWUEA/yoA2KKgtryG73+S2Sh2sDwVPuKnoAKKKKACiiigAoqC8vIbCzmurpikMKF3bBOABknArNsvFmj36ube6PyRLMRJG0Z2N0bDAEg0AbOKMVTvNVtNP01r+9lEFsoBZ34xk4H86tRussauhyrDIPqKAHUVUTUrd76e0VsywKGkGOFB6c1RTxVpcrxiGSaVJJPLSWOB2jZvQOBg9PWgDZoqG3uoruESwMHQ9xU1ABRRRQAUUUUAFFFFABRRRQAUUVT1bU7fRtLn1C83CCBdz7Rk4+lAFzFGKxbTxVpt3HcsGkia2KiWOVNrAsAV475yKtanrdlo9gt5qMnkxM6oCRzuY4Ax9TQBoUUgYMMjpVRdUt31CezGfMgjEkjH7qg9Bn170AXKKxrfxNZ3flPaxXE0E0vlJOkRKMfr6cdelaNpew3iuYTzG5R1PVWHY0AWKKKKACiiigDDH/JQG/wCwWP8A0aa3Kwx/yUBv+wWP/RprcoAw77/ketG/68rz/wBCgrcrDvv+R60b/ryvP/QoK3KACiiigAooooArajLLBptxLbxNNMsbGONerNjgfnXFaL4KePwlFJdmdtVWCZ4klYAQzSA5IAHXJ6nNd9RikByNr9rk8JaZp1nG8byoIp5dmRDgfNkZHJ6VV8FLdaBLNol5aMiS3c8lvLt2qyZBBAyfWu2EYUnaAMnJwOtRPaQyXEc7xqZYwQjkcrnrin1F0MS2sbu41XV72RTDJIv2e1LdlA+9/wB9HNUfA8NxpXh220i8024S6hLfaJHUbGbJJfd0bP5114GKXFAznNLhmbxpq10mRaNHFH7NIByR+gro6aqBBhQAPYU6gAooooAKKKKAOb8dQ3154XuLHTYJJpbtlhbyxyiFhub8s1lax4UisNMiurPzp50ltxPJI2WMKH7oAAAA68Cu5xSFcjB6UAcb4u0++8R2F7ZWsZW3jtmaMtFuE8hHygcjp61peH7+++z2dlfWLwutorOxfJVgMEEdvbmugVAqgKAAOwFVk061S+e8WFRcOMNJ3IoA5afR9TvfCOveUpg1LUxIUDHBUdFXPbjitTw1Ls0ezszps9oLaFUcTIFCMBjj1+orfxSFQRgjIoA57wnDMh1SZ8iC4vpJIAf7ueo9iea6KkChRgcD2paACiiigAooooAKKKKACiiigArnvGOl3muaXBp9ogMUlzG1yfM2kRqcnHvkCuhooA5XWPDUNvp8TaVCQyXkdzP8xd5QvHJJJOB/KoPFWhah4ksryOMmNViH2NQ64kfIOWyDjkCuxoxQBi6VrCy3I0yWORbqCJfNbgpnHOD35qn/AGBdXWi63FNIsN3qZkAcHOxSNqfkMV0YjUNuCqG9cU+gDB8OQ31lpNrYXdkluLWIRswkDByOMrjt9cUaFZTJq2r3z5SK7nUxKRjIVQufxxW9RR1AKKKKACiiigDDH/JQG/7BY/8ARprcrDH/ACUBv+wWP/RprcoAw77/AJHrRv8AryvP/QoK3Kw77/ketG/68rz/ANCgrcoAKKKKACiiigAooooAKKKKACiiigDy3xZ8QdRsfF1/pekapZQz2iRLb2Elo00l7K3JUYYFRjvg4roNQ+I9lpVwLW5sriaaHykvGgaPbBI+MLhmBY89FBp134BS7t74PqBFzdakmoLP5HMRUjCgbueBjORSWXgibT/F11q0E2mSxXc/nyG407fcIcYKpLvGB+BxQBn+JPiFObcweHbC9PmXsdkmphIzCshYbgAW3HAyM7cV0Wt+KE0Oe2so7G71S/mjMn2e1CBgi/ecl2UAfjz2rCsPh1e299Yi511ZdN0+9e7gtEtNrOzZ+++85xnjAFX/ABH4Q1HVdcbUdJ1lNOeayaym32vmsFJJ3Idwwee+aAMPSPiZ5Ph+O81SG4u7u6826S2TyozBbhiF3FmVe2OpJrrbnxZYWvheDXJI5zDcqnkwKn72Rn+6gGep+uK5xPhobLULC506506Y21pHauNS077R9053p842k5966HxR4dn13T7NbO8jtLuyuEuYZHh8yMsoIwyBgcc+tAGRqXjC9hutHFxZXOjCW4ke7iu/LY+RGhJOUZhjJHQ5p0HxJs2nC3mkanZRPayXkM0yRlZIU6thXJGewIBqTVPBN1r37zWdWSS4+wS2uYLbYqs55cAufQDGfxqvY+CNZtrt9QuNetbi+FktnAraeRBEgPPyeZk5HXn/AAoAsS+MJbvS9PnitLvTnv7pI7YOsMxmTG7I2yYUEDGScj0rndI8X6rfzvqd/PqOnQXmom1s4Xit5IfLUkk4Vt2cKcsTjngGrTeCpPDOnw30csl7PbSzzxWWn2REZmlGBsXcdij8evar9h4CM2gaHb39y0LWNtKskSrndJKuC27PBGTQBaX4hWxsZtRfSNRj0sD9xelY9ty2doVFD78k9MgZpifEe0RL5dQ0jUrG6s/LBtpVjZ5Gk+4qFXIJPXrx3qt/wg2tS+GINIuNdtGFjJFJZOlgQAYzkeYPM+bPttqOT4dX8kdxdPryS6tNfx3wuJLP90pRdoTYHztx/tZoAhtviFcjxBqj6lYX1pb2ohtotNZI2mluHycKVYg8Y/iwPatJ/iRZW9jM97pWo297DdpZtYFY3lMjjK4KuVII75qovw6vokN2uupNq/8AaP2/7TNaZjLbduwoHzgDp81XbPwEY9QtNQv9S+03aXjXtywg2rNIV2qANx2qo6DmgC14r8QajpfgltQsbUW+qTeXHBb3OG2SOwADbSQcexrBs/iNJJBpE155UC/ZZp9UUISY2jIXaozwS2RXXa7oQ1yTTvMuDFHZ3S3LJs3eaVBAHXjrnvXK3nwqhn1LXry31R4jqoQxRGHK2zB95PX5gzdRxQBaf4iwmC/jutK1LS57ez+1K08cb5RjhCArnJJ/hJHvirVt46sYtNP2oXMtzDdJZOvlKrySMM7gu7AGOevaqP8Awru8vDfTaxri3FzfGASGK02IkcRB2Ku8nBI6k1cX4f2x8YXetz3skkUyfurMIAsUmzYZM55OBxxxQAaf8RdN1LXrbTrW1uWjundILrMeyQp1O0NvA/2ioFZHj7xzPoPiGPTrfWrHSUSxa6eS6tzMZWzhUVQy9cVseDfB0/hTMJk0uWBVKpJb6d5M785zJJvO4/hUWseCtU1DX9SvrPXoLS31K3W2mifT/NkVAMEI/mADOT1U0AMTx/JaaTZG90q5vdRaxF5exWITbbx92O9x6cAEmrEPxG0mbTrm7NveR/Z0hfynjUPJ5uNgUbuvNZt78NLk/abfRtc+wWN5ZR2c6tbebLtQYG1twAyOvBqO08GNe/EMX0sc8Ol6ZbxQpHIu1buZBxJj0UH86ANMfEjTH1qGxhtLqSOa4+yi5Ux7RLjJXbu3kDGCQpHvWl4e8Up4kkmez065SyRmRLuRo9shU4IChiw/ECsrw74HuvDl3cm0udLMTtI8cx0z/SQWORuk3/MB9OfarnhnwpPousajql7dWslzf7RIllam3i+X+IqWbLHuc0AdPRRRQAUUUUAFFFFABRRRQAUUUUAYY/5KA3/YLH/o01uVhj/koDf9gsf+jTW5QBh33/I9aN/15Xn/AKFBW5WHff8AI9aN/wBeV5/6FBW5QAUUUUAFFFFABRRRQAUUUUAFFFFABRRRQAUUUUAFFFFABRRRQAUUUUAFFFFABRRRQAUUUUAFFFFABRRRQAUUUUAFFFFABRRRQAUUUUAFFFFABRRRQAUUUUAYY/5KA3/YLH/o01uVhj/koDf9gsf+jTW5QBh33/I9aN/15Xn/AKFBW5WHff8AI9aN/wBeV5/6FBW5QAUUUUAFFFFABRRRQAVT1TVrDRLB73VrqO0tkIDSytgAnpVyuN+KQnbwfGLTZ532632bwdufMGM47UAbUXizQrjQ5tXtNTgubKDiSWB9+09MYHOeelM1Lxj4f0eaGHVNUgtZZkDrHI2GCnuR2Hua4nxB4evNJ0ifUtVuYZrnU9WtHu1toykSIrAAAEknoMk1b0vWtI8NeOPE6+J7y3sZruZJbaS6YKJoNgAVCfvYORgUAdxZaxZaheXVray75rUr5i4I4YZBHqCD1FXq5PTXif4oam1ucq2l27Njpnc2P0xVG8tvEp8Ts8C+IvsfnggxXlgINuf7rLv2+2c0AdPrXiPSPDsUUmt6hBZJMxWMzPjcR1xQviLSpIrCSC9inj1CTy7Z4W3rIcE8EdsDrXMeO01FvFPhT+yDbi68+ba1yrFB8g67eay7bw7L4c8U+HtPkuRPJJFezeYqbE898H5VycDnigDsz4x8PDWv7J/te1+27/L8rf0f+7npu9utbdeb+ANf0PTvDMOhX93Bb60k7xzWUhAnaYsTu2nk567ulOWLxdbSXc4j8RHZDK0X2q7sZIt207fljUOecYxQB6HLNHBC8s8ixxoNzO5wFHqTWZ/wk+jnTrW/ivY5rO6mEMU8PzozHgcjgcjGa4zwteeEZfDUs9/rn26RrZZNTXUL9po43z/GrsVjO7tgfSsPTNU0y9+BdxDp15bTzW9woCQyBjGxnBTgdKAPZaQkBSScADJNc94pi1qfwbOmhyQpdG1YOJYmdm+Tou0g7s9OtHhaHWYPCESa/JA84txtEUToVG3o25iS1AFjS/GHh7Wr17PStYs7q5QEmKOUFsDqcdxSSeMNCh0gancahHBZtK0SSS5XzGBxhQeW6dq898KeHdW1Dwpp+q3dzbJDpltctZQwRN5rOwI+diensBTdNurPSJfA+q6tIkOkx2EkX2iU4jhuGxyxPCkjIyaAPVNM1Wx1mwS90u5jubdyQJIzkZHUfX2q3XE65eXeu29teeD59Tu7RiwabR7q0RGYHnJmU7vqvFYN5dJF4ks7Txzq2paZaJYLJbifUBC8s+87tzwFVdgMYUce1AHdv4u0CPXBo8mq2y37NsEBfnd/d9M+3WrunaraaqkzWUhbyJmhkDKVKupwQQa8813xNoGv+M9P8Pvq9laW+l3KTzvcTqkk82PkjQE5PXJP4V0vhTZ/wk3ivyT8n25OnTd5S5/WgDqqK4S0tPGI+JVxNPcWJsDaoCwtZQpXc3yqd+N/qf0rrbvWbCwuhbXdyscxhefaQf8AVr95vwoAvUVRsda0/UpVjsrlZXaBbgAA8xsSA344NcnrNp4wf4h6bLYXFkLFYpcFrWVlQfLw5D4LHt0oA6nWdf0rw9bpPrV9DZRSNsRpmwGPoKjPibR/7Lt9Rhvori1uZVihlgPmCRmOABtzXN/EJb86l4W/swwfaxqB2tOG8sHyz1xzWZL4ek8Oan4ZgvLhLg3WrzXNy0ceyMSshICrk4HXvQB2V14w8P2WrjS7rVraO9LBfKL8qT0B7AnsDW1Xm/gjXdH0NdS0nX7y3tNYfU5DJDcMFknLv8jKDywIxgjNWkt/FKa80mzxGbcSMV8y8sDARzjKhd+32zmgDvqq6nqVtpGnyXt8xSCLG9gpbaCcZ47c15La6naN4F1K7h1++bxSbZzdQi/kLQtvAP7rO2PHQYA/GtF4Dpcmvae95e3FlNoAuZBeXLzYlIYFgXJxnA4GB7UAepI6yRq6HKsAQR3FLWR4TMp8H6UbjPm/ZU3Z+la9ABRRRQAUUUUAFFFFAGGP+SgN/wBgsf8Ao01uVhj/AJKA3/YLH/o01uUAct4i1nTNE8Y6Jc6zqNpp8DWl2iy3c6xKW3QHGWIGeDx7VP8A8LC8F/8AQ3aD/wCDOH/4quiooA53/hYXgv8A6G7Qf/BnD/8AFUf8LC8F/wDQ3aD/AODOH/4quiooA53/AIWF4L/6G7Qf/BnD/wDFUf8ACwvBf/Q3aD/4M4f/AIquiooA53/hYXgv/obtB/8ABnD/APFUf8LC8F/9DdoP/gzh/wDiq6KigDnf+FheC/8AobtB/wDBnD/8VR/wsLwX/wBDdoP/AIM4f/iq6KigDktU8X+AtY02awvvFmhPBMMMBqcII5yCDu4IIqdfHXgcRxofFmgv5YAUvqUJIx3+9XTUUAcfaeK/ANlqV5fw+LdDNxespldtUhP3RgAfNwKvf8LC8F/9DdoP/gzh/wDiq6KigDnf+FheC/8AobtB/wDBnD/8VVO98W+AdQurO4ufFehmWyl82FhqkIwcEH+Lpg9K66igDm/+E+8EeZ5n/CV6Bvxjd/aMOcfXdTv+FheC/wDobtB/8GcP/wAVXRUUAc4vj/wShJXxZoCljk41KHn/AMeqnqnivwDrEcEd94t0R44ZlmVBqkIBZemfm5FdfRQBzv8AwsLwX/0N2g/+DOH/AOKo/wCFheC/+hu0H/wZw/8AxVdFRQBzp+IPgsjB8XaD/wCDKH/4qqOmeKvh/pOnmxs/FehfZ97MI31OFgNxyQPm6e1dhRQBzg+IHgpVAXxboIA6AalDx/49Q3j/AMEvjf4s0BsHIzqUJwf++q6OigDnf+FheC/+hu0H/wAGcP8A8VVHTPFfgHSUnFp4t0PNxM08rPqkJLOxyTndXYUUAc7/AMLC8F/9DdoP/gzh/wDiqP8AhYXgv/obtB/8GcP/AMVXRUUAc7/wsLwX/wBDdoP/AIM4f/iqP+FheC/+hu0H/wAGcP8A8VXRUUAc7/wsLwX/ANDdoP8A4M4f/iqpap4s8A6vDDHeeLNDIhmWaNl1SEFXU8EHdXX0UAc2fH3ggyBz4r0AuvRjqMOR/wCPU7/hYXgv/obtB/8ABnD/APFV0VFAHODx/wCCVYsvizQAzdSNShyf/Hqq6r4v8B6xpsthe+LtEME2A4TVIQWAOcZ3dOK62igDm4/H3gmKNY4/FugqiAKoGpQ8Af8AAqd/wsLwX/0N2g/+DOH/AOKroqKAOd/4WF4L/wChu0H/AMGcP/xVH/CwvBf/AEN2g/8Agzh/+KroqKAOd/4WF4L/AOhu0H/wZw//ABVH/CwvBf8A0N2g/wDgzh/+KroqKAOd/wCFheC/+hu0H/wZw/8AxVH/AAsLwX/0N2g/+DOH/wCKroqKAOS0rxBo2ueP5TomrWOoiPTBvNpcpKF/enrtJxXW0UUAf//Z)"
      ],
      "metadata": {
        "id": "pSJCumJW3D5j"
      }
    },
    {
      "cell_type": "markdown",
      "source": [
        "###**a. Cálculo de la frecuencia de la clase**"
      ],
      "metadata": {
        "id": "GrUN3HMDmOll"
      }
    },
    {
      "cell_type": "code",
      "source": [
        "# Colocamos un 1 a lado de cada clase y las sumamos\n",
        "frec = rdd.mapValues(lambda x: 1).reduceByKey(lambda x, y: x + y).sortByKey()\n",
        "frec.collect()[:10]"
      ],
      "metadata": {
        "colab": {
          "base_uri": "https://localhost:8080/"
        },
        "id": "UBQUK3K0mVzR",
        "outputId": "9a923622-b4f8-4458-bbd7-9b0d0d347be2"
      },
      "execution_count": null,
      "outputs": [
        {
          "output_type": "execute_result",
          "data": {
            "text/plain": [
              "[(0, 500), (1, 268)]"
            ]
          },
          "metadata": {},
          "execution_count": 26
        }
      ]
    },
    {
      "cell_type": "code",
      "source": [
        "# Convertimos a lista para una mejor maniobrabilidad de datos\n",
        "frecList = [i[1] for i in frec.collect()]\n",
        "frecList"
      ],
      "metadata": {
        "colab": {
          "base_uri": "https://localhost:8080/"
        },
        "id": "blWafFf8nL0T",
        "outputId": "ed059efd-a854-4f3a-ff95-3eb80cfaca9d"
      },
      "execution_count": null,
      "outputs": [
        {
          "output_type": "execute_result",
          "data": {
            "text/plain": [
              "[500, 268]"
            ]
          },
          "metadata": {},
          "execution_count": 27
        }
      ]
    },
    {
      "cell_type": "markdown",
      "source": [
        "###**b.Cálculo de probabilidad a posteriori (predicción de nuevos casos)**\n",
        "\n",
        "    Utilizando tablas de probabilidad, media, desviación estándar**"
      ],
      "metadata": {
        "id": "yt5ygyzbvbPm"
      }
    },
    {
      "cell_type": "code",
      "source": [
        "'''               MEDIA                   ...\n",
        "Para hallar la Media seguimos dos pasos\n",
        "1. Sumar los valores de cada columna agrupandas por clase\n",
        "2. Divimos ese resultado por el nro total de datos\n",
        "'''\n",
        "sumTmp = rdd.reduceByKey(lambda x, y: (x[0]+y[0], x[1]+y[1], x[2]+y[2], x[3]+y[3]) )\n",
        "means = sumTmp.mapValues(lambda x: (x[0]/n, x[1]/n, x[2]/n, x[3]/n)).sortByKey()\n",
        "means.collect()[:10]"
      ],
      "metadata": {
        "id": "u_0y--ZHq09C",
        "outputId": "534b1bc5-4b04-4817-935a-36aa0bccfcff",
        "colab": {
          "base_uri": "https://localhost:8080/"
        }
      },
      "execution_count": null,
      "outputs": [
        {
          "output_type": "execute_result",
          "data": {
            "text/plain": [
              "[(0, (71.6015625, 44.786458333333336, 20.305989583333332, 19.729296874999974)),\n",
              " (1,\n",
              "  (49.29296875, 35.013020833333336, 12.934895833333334, 12.263281249999983))]"
            ]
          },
          "metadata": {},
          "execution_count": 28
        }
      ]
    },
    {
      "cell_type": "code",
      "source": [
        "# Convertimos a lista para una mejor maniobrabilidad de datos\n",
        "meansList = [i[1] for i in means.collect()]\n",
        "meansList"
      ],
      "metadata": {
        "colab": {
          "base_uri": "https://localhost:8080/"
        },
        "id": "FkgmCmjr8UGh",
        "outputId": "b60af888-2773-474e-b921-03551702557e"
      },
      "execution_count": null,
      "outputs": [
        {
          "output_type": "execute_result",
          "data": {
            "text/plain": [
              "[(71.6015625, 44.786458333333336, 20.305989583333332, 19.729296874999974),\n",
              " (49.29296875, 35.013020833333336, 12.934895833333334, 12.263281249999983)]"
            ]
          },
          "metadata": {},
          "execution_count": 29
        }
      ]
    },
    {
      "cell_type": "code",
      "source": [
        "def squareDistanceToMean(x):\n",
        "  label = 0 if x[0] == 0 else 1\n",
        "  #mean = means.collect()[label]\n",
        "  mean = meansList[label]\n",
        "  col0 = abs(x[1][0] - mean[0])**2\n",
        "  col1 = abs(x[1][1] - mean[1])**2\n",
        "  col2 = abs(x[1][2] - mean[2])**2\n",
        "  col3 = abs(x[1][2] - mean[3])**2\n",
        "  return (label, (col0, col1, col2, col3))"
      ],
      "metadata": {
        "id": "4o_DgxZi4IFq"
      },
      "execution_count": null,
      "outputs": []
    },
    {
      "cell_type": "code",
      "source": [
        "'''                  DESVIACION ESTANDAR               ...\n",
        "Para hallar la desviacion estandar:\n",
        "1. Calculamos el cuadrado de la distancia a la media de cada valor\n",
        "2. Sumamos las distancias de cada columna agrupandolas por clase\n",
        "3. Sacamos la raiz cuadrada de la suma de distancias sobre el nro total de datos\n",
        "'''\n",
        "distanceToMean = rdd.map(squareDistanceToMean)\n",
        "sumDistances = distanceToMean.reduceByKey(lambda x, y: (x[0]+y[0], x[1]+y[1], x[2]+y[2], x[3]+y[3])).sortByKey()\n",
        "devStdr = sumDistances.mapValues(lambda x: ((x[0]/n)**0.5, (x[1]/n)**0.5, (x[2]/n)**0.5, (x[3]/n)**0.5))\n",
        "devStdr.collect()"
      ],
      "metadata": {
        "id": "pHcLvTuq6CZ5",
        "colab": {
          "base_uri": "https://localhost:8080/"
        },
        "outputId": "51bed0b0-bc4c-4931-d377-df2c1b25e549"
      },
      "execution_count": null,
      "outputs": [
        {
          "output_type": "execute_result",
          "data": {
            "text/plain": [
              "[(0,\n",
              "  (37.455703568075734,\n",
              "   82.01190353891874,\n",
              "   12.867604640579708,\n",
              "   13.189563822497119)),\n",
              " (1,\n",
              "  (57.49749426081236,\n",
              "   90.42169765083963,\n",
              "   15.653930703214288,\n",
              "   16.016069814369644))]"
            ]
          },
          "metadata": {},
          "execution_count": 33
        }
      ]
    },
    {
      "cell_type": "code",
      "source": [
        "# Convertimos a lista para una mejor maniobrabilidad de datos\n",
        "devStdrList = [i[1] for i in devStdr.collect()]\n",
        "devStdrList"
      ],
      "metadata": {
        "colab": {
          "base_uri": "https://localhost:8080/"
        },
        "id": "ssC-Sp0XhE6L",
        "outputId": "0680d0e8-f946-4cc3-fd1d-6d218a6ea6be"
      },
      "execution_count": null,
      "outputs": [
        {
          "output_type": "execute_result",
          "data": {
            "text/plain": [
              "[(37.455703568075734,\n",
              "  82.01190353891874,\n",
              "  12.867604640579708,\n",
              "  13.189563822497119),\n",
              " (57.49749426081236,\n",
              "  90.42169765083963,\n",
              "  15.653930703214288,\n",
              "  16.016069814369644)]"
            ]
          },
          "metadata": {},
          "execution_count": 34
        }
      ]
    },
    {
      "cell_type": "markdown",
      "source": [
        "##**PREDICCIÓN**\n"
      ],
      "metadata": {
        "id": "2XTphtBufPaq"
      }
    },
    {
      "cell_type": "markdown",
      "source": [
        "Cálculo de probabilidad a posteriori (predicción de nuevos casos)\n",
        "\n",
        "\n",
        "![12.JPG](data:image/jpeg;base64,/9j/4AAQSkZJRgABAQEAYABgAAD/4RDoRXhpZgAATU0AKgAAAAgABAE7AAIAAAAKAAAISodpAAQAAAABAAAIVJydAAEAAAAUAAAQzOocAAcAAAgMAAAAPgAAAAAc6gAAAAgAAAAAAAAAAAAAAAAAAAAAAAAAAAAAAAAAAAAAAAAAAAAAAAAAAAAAAAAAAAAAAAAAAAAAAAAAAAAAAAAAAAAAAAAAAAAAAAAAAAAAAAAAAAAAAAAAAAAAAAAAAAAAAAAAAAAAAAAAAAAAAAAAAAAAAAAAAAAAAAAAAAAAAAAAAAAAAAAAAAAAAAAAAAAAAAAAAAAAAAAAAAAAAAAAAAAAAAAAAAAAAAAAAAAAAAAAAAAAAAAAAAAAAAAAAAAAAAAAAAAAAAAAAAAAAAAAAAAAAAAAAAAAAAAAAAAAAAAAAAAAAAAAAAAAAAAAAAAAAAAAAAAAAAAAAAAAAAAAAAAAAAAAAAAAAAAAAAAAAAAAAAAAAAAAAAAAAAAAAAAAAAAAAAAAAAAAAAAAAAAAAAAAAAAAAAAAAAAAAAAAAAAAAAAAAAAAAAAAAAAAAAAAAAAAAAAAAAAAAAAAAAAAAAAAAAAAAAAAAAAAAAAAAAAAAAAAAAAAAAAAAAAAAAAAAAAAAAAAAAAAAAAAAAAAAAAAAAAAAAAAAAAAAAAAAAAAAAAAAAAAAAAAAAAAAAAAAAAAAAAAAAAAAAAAAAAAAAAAAAAAAAAAAAAAAAAAAAAAAAAAAAAAAAAAAAAAAAAAAAAAAAAAAAAAAAAAAAAAAAAAAAAAAAAAAAAAAAAAAAAAAAAAAAAAAAAAAAAAAAAAAAAAAAAAAAAAAAAAAAAAAAAAAAAAAAAAAAAAAAAAAAAAAAAAAAAAAAAAAAAAAAAAAAAAAAAAAAAAAAAAAAAAAAAAAAAAAAAAAAAAAAAAAAAAAAAAAAAAAAAAAAAAAAAAAAAAAAAAAAAAAAAAAAAAAAAAAAAAAAAAAAAAAAAAAAAAAAAAAAAAAAAAAAAAAAAAAAAAAAAAAAAAAAAAAAAAAAAAAAAAAAAAAAAAAAAAAAAAAAAAAAAAAAAAAAAAAAAAAAAAAAAAAAAAAAAAAAAAAAAAAAAAAAAAAAAAAAAAAAAAAAAAAAAAAAAAAAAAAAAAAAAAAAAAAAAAAAAAAAAAAAAAAAAAAAAAAAAAAAAAAAAAAAAAAAAAAAAAAAAAAAAAAAAAAAAAAAAAAAAAAAAAAAAAAAAAAAAAAAAAAAAAAAAAAAAAAAAAAAAAAAAAAAAAAAAAAAAAAAAAAAAAAAAAAAAAAAAAAAAAAAAAAAAAAAAAAAAAAAAAAAAAAAAAAAAAAAAAAAAAAAAAAAAAAAAAAAAAAAAAAAAAAAAAAAAAAAAAAAAAAAAAAAAAAAAAAAAAAAAAAAAAAAAAAAAAAAAAAAAAAAAAAAAAAAAAAAAAAAAAAAAAAAAAAAAAAAAAAAAAAAAAAAAAAAAAAAAAAAAAAAAAAAAAAAAAAAAAAAAAAAAAAAAAAAAAAAAAAAAAAAAAAAAAAAAAAAAAAAAAAAAAAAAAAAAAAAAAAAAAAAAAAAAAAAAAAAAAAAAAAAAAAAAAAAAAAAAAAAAAAAAAAAAAAAAAAAAAAAAAAAAAAAAAAAAAAAAAAAAAAAAAAAAAAAAAAAAAAAAAAAAAAAAAAAAAAAAAAAAAAAAAAAAAAAAAAAAAAAAAAAAAAAAAAAAAAAAAAAAAAAAAAAAAAAAAAAAAAAAAAAAAAAAAAAAAAAAAAAAAAAAAAAAAAAAAAAAAAAAAAAAAAAAAAAAAAAAAAAAAAAAAAAAAAAAAAAAAAAAAAAAAAAAAAAAAAAAAAAAAAAAAAAAAAAAAAAAAAAAAAAAAAAAAAAAAAAAAAAAAAAAAAAAAAAAAAAAAAAAAAAAAAAAAAAAAAAAAAAAAAAAAAAAAAAAAAAAAAAAAAAAAAAAAAAAAAAAAAAAAAAAAAAAAAAAAAAAAAAAAAAAAAAAAAAAAAAAAAAAAAAAAAAAAAAAAAAAAAAAAAAAAAAAAAAAAAAAAAAAAAAAAAAAAAAAAAAAAAAAAAAAAAAAAAAAAAAAAAAAAAAAAAAAAAAAAAAAAAAAAAAAAAAAAAAAAAAAAAAAAAAAAAAAAAAAAAAAAAAAAAAAAAAAAAAAAAAAAAAAAAAAAAAAAAAAAAAAAAAAAAAAAAAAAAAAAAAAAAAAAAAAAAAAAAAAAAAAAAAAAAAAAAAAAAAAAAAAAAAAAAAAAAAAAAAAAAAAAAAAAAAAAAAAAAAAAAAAAAAAAAAAAAAAAAAAAAAAAAAAAAAAAAAAAAAAAAAAAAAAAAAAAAAAAAAAAAAAAAAAAAAAAAAAAAAAAAAAAAAAAAAAAAAAAAAAAAAAAAAAAAAAAAAAAAAAAAAAAAAAAAAAAAAAAAAAAAAAAAAAAAAAAAAAAAAAAAAAAAAAAAAAAAAAAAAAAAAAAAAAAAAAAAAAAAAAAAAAAAAAAAAAAAAAAAAAAAAAAAAAAAAAAAAAAAAAAAAAAAAAAAAAAAAAAAAAAAAAAAAAAAAAAAAAAAAAAAAAAAAAAAAAAAAAAAAAAAAAAAAAAAAAAAAAAAAAAAAAAAAAAAAAAAAAAAAAAAAAAAAAAAAAAAAAAAAAAAAAAAAAAAAAAAAAAAAAAAAAAAAAAAAAAAAAAAAAAAAAAAAAAAAAAAAAAAAAAAAAAAAAAAAAAAAAAAAAAAAAAAAAAAAAAAAAAAAAAAAAAAAAAAAAAAAAAAAAAAAAAAAAAAAAAAAAAAAAAAAAAAAAAAAAAAAAAAAAAAAAAAAAAAAAAAAAAAAAAAAAAAAAAAAAAAAAAAAAAAAAAAAAAAAAAAAAAAAAAAAAAAE1lbGFuaWUgKgAABZADAAIAAAAUAAAQopAEAAIAAAAUAAAQtpKRAAIAAAADODEAAJKSAAIAAAADODEAAOocAAcAAAgMAAAIlgAAAAAc6gAAAAgAAAAAAAAAAAAAAAAAAAAAAAAAAAAAAAAAAAAAAAAAAAAAAAAAAAAAAAAAAAAAAAAAAAAAAAAAAAAAAAAAAAAAAAAAAAAAAAAAAAAAAAAAAAAAAAAAAAAAAAAAAAAAAAAAAAAAAAAAAAAAAAAAAAAAAAAAAAAAAAAAAAAAAAAAAAAAAAAAAAAAAAAAAAAAAAAAAAAAAAAAAAAAAAAAAAAAAAAAAAAAAAAAAAAAAAAAAAAAAAAAAAAAAAAAAAAAAAAAAAAAAAAAAAAAAAAAAAAAAAAAAAAAAAAAAAAAAAAAAAAAAAAAAAAAAAAAAAAAAAAAAAAAAAAAAAAAAAAAAAAAAAAAAAAAAAAAAAAAAAAAAAAAAAAAAAAAAAAAAAAAAAAAAAAAAAAAAAAAAAAAAAAAAAAAAAAAAAAAAAAAAAAAAAAAAAAAAAAAAAAAAAAAAAAAAAAAAAAAAAAAAAAAAAAAAAAAAAAAAAAAAAAAAAAAAAAAAAAAAAAAAAAAAAAAAAAAAAAAAAAAAAAAAAAAAAAAAAAAAAAAAAAAAAAAAAAAAAAAAAAAAAAAAAAAAAAAAAAAAAAAAAAAAAAAAAAAAAAAAAAAAAAAAAAAAAAAAAAAAAAAAAAAAAAAAAAAAAAAAAAAAAAAAAAAAAAAAAAAAAAAAAAAAAAAAAAAAAAAAAAAAAAAAAAAAAAAAAAAAAAAAAAAAAAAAAAAAAAAAAAAAAAAAAAAAAAAAAAAAAAAAAAAAAAAAAAAAAAAAAAAAAAAAAAAAAAAAAAAAAAAAAAAAAAAAAAAAAAAAAAAAAAAAAAAAAAAAAAAAAAAAAAAAAAAAAAAAAAAAAAAAAAAAAAAAAAAAAAAAAAAAAAAAAAAAAAAAAAAAAAAAAAAAAAAAAAAAAAAAAAAAAAAAAAAAAAAAAAAAAAAAAAAAAAAAAAAAAAAAAAAAAAAAAAAAAAAAAAAAAAAAAAAAAAAAAAAAAAAAAAAAAAAAAAAAAAAAAAAAAAAAAAAAAAAAAAAAAAAAAAAAAAAAAAAAAAAAAAAAAAAAAAAAAAAAAAAAAAAAAAAAAAAAAAAAAAAAAAAAAAAAAAAAAAAAAAAAAAAAAAAAAAAAAAAAAAAAAAAAAAAAAAAAAAAAAAAAAAAAAAAAAAAAAAAAAAAAAAAAAAAAAAAAAAAAAAAAAAAAAAAAAAAAAAAAAAAAAAAAAAAAAAAAAAAAAAAAAAAAAAAAAAAAAAAAAAAAAAAAAAAAAAAAAAAAAAAAAAAAAAAAAAAAAAAAAAAAAAAAAAAAAAAAAAAAAAAAAAAAAAAAAAAAAAAAAAAAAAAAAAAAAAAAAAAAAAAAAAAAAAAAAAAAAAAAAAAAAAAAAAAAAAAAAAAAAAAAAAAAAAAAAAAAAAAAAAAAAAAAAAAAAAAAAAAAAAAAAAAAAAAAAAAAAAAAAAAAAAAAAAAAAAAAAAAAAAAAAAAAAAAAAAAAAAAAAAAAAAAAAAAAAAAAAAAAAAAAAAAAAAAAAAAAAAAAAAAAAAAAAAAAAAAAAAAAAAAAAAAAAAAAAAAAAAAAAAAAAAAAAAAAAAAAAAAAAAAAAAAAAAAAAAAAAAAAAAAAAAAAAAAAAAAAAAAAAAAAAAAAAAAAAAAAAAAAAAAAAAAAAAAAAAAAAAAAAAAAAAAAAAAAAAAAAAAAAAAAAAAAAAAAAAAAAAAAAAAAAAAAAAAAAAAAAAAAAAAAAAAAAAAAAAAAAAAAAAAAAAAAAAAAAAAAAAAAAAAAAAAAAAAAAAAAAAAAAAAAAAAAAAAAAAAAAAAAAAAAAAAAAAAAAAAAAAAAAAAAAAAAAAAAAAAAAAAAAAAAAAAAAAAAAAAAAAAAAAAAAAAAAAAAAAAAAAAAAAAAAAAAAAAAAAAAAAAAAAAAAAAAAAAAAAAAAAAAAAAAAAAAAAAAAAAAAAAAAAAAAAAAAAAAAAAAAAAAAAAAAAAAAAAAAAAAAAAAAAAAAAAAAAAAAAAAAAAAAAAAAAAAAAAAAAAAAAAAAAAAAAAAAAAAAAAAAAAAAAAAAAAAAAAAAAAAAAAAAAAAAAAAAAAAAAAAAAAAAAAAAAAAAAAAAAAAAAAAAAAAAAAAAAAAAAAAAAAAAAAAAAAAAAAAAAAAAAAAAAAAAAAAAAAAAAAAAAAAAAAAAAAAAAAAAAAAAAAAAAAAAAAAAAAAAAAAAAAAAAAAAAAAAAAAAAAAAAAAAAAAAAAAAAAAAAAAAAAAAAAAAAAAAAAAAAAAAAAAAAAAAAAAAAAAAAAAAAAAAAAAAAAAAAAAAAAAAAAAAAAAAAAAAAAAAAAAAAAAAAAAAAAAAAAAAAAAAAAAAAAAAAAAAAAAAAAAAAAAAAAAAAAAAAAAAAAAAAAAAAAAAAAAAAAAAAAAAAAAAAAAAAAAAAAAAAAAAAAAAAAAAAAAAAAAAAAAAAAAAAAAAAAAAAAAAAAAAAAAAAAAAAAAAAAAAAAAAAAAAAAAAAAAAAAAAAAAAAAAAAAAAAAAAAAAAAAAAAAAAAAAAAAAAAAAAAAAAAAAAAAAAAAAAAAAAAAAAAAAAAAAAAAAAAAAAAAAAAAAAAAAAAAAAAAAAAAAAAAAAAAAAAAAAAAAAAAAAAAAAAAAAAAAAAAAAAAAAAAAAAAAAAAAAAAAAAAAAAAAAAAAAAAAAAAAAAAAAAAAAAAAAAAAAAAAAAAAAAAAAAAAAAAAAAAAAAAAAAAAAAAAAAAAAAAAAAAAAAAAAAAAAAAADIwMjI6MDI6MDcgMjM6MDA6MTEAMjAyMjowMjowNyAyMzowMDoxMQAAAE0AZQBsAGEAbgBpAGUAIAAqAAAA/+ELHGh0dHA6Ly9ucy5hZG9iZS5jb20veGFwLzEuMC8APD94cGFja2V0IGJlZ2luPSfvu78nIGlkPSdXNU0wTXBDZWhpSHpyZVN6TlRjemtjOWQnPz4NCjx4OnhtcG1ldGEgeG1sbnM6eD0iYWRvYmU6bnM6bWV0YS8iPjxyZGY6UkRGIHhtbG5zOnJkZj0iaHR0cDovL3d3dy53My5vcmcvMTk5OS8wMi8yMi1yZGYtc3ludGF4LW5zIyI+PHJkZjpEZXNjcmlwdGlvbiByZGY6YWJvdXQ9InV1aWQ6ZmFmNWJkZDUtYmEzZC0xMWRhLWFkMzEtZDMzZDc1MTgyZjFiIiB4bWxuczpkYz0iaHR0cDovL3B1cmwub3JnL2RjL2VsZW1lbnRzLzEuMS8iLz48cmRmOkRlc2NyaXB0aW9uIHJkZjphYm91dD0idXVpZDpmYWY1YmRkNS1iYTNkLTExZGEtYWQzMS1kMzNkNzUxODJmMWIiIHhtbG5zOnhtcD0iaHR0cDovL25zLmFkb2JlLmNvbS94YXAvMS4wLyI+PHhtcDpDcmVhdGVEYXRlPjIwMjItMDItMDdUMjM6MDA6MTEuODA3PC94bXA6Q3JlYXRlRGF0ZT48L3JkZjpEZXNjcmlwdGlvbj48cmRmOkRlc2NyaXB0aW9uIHJkZjphYm91dD0idXVpZDpmYWY1YmRkNS1iYTNkLTExZGEtYWQzMS1kMzNkNzUxODJmMWIiIHhtbG5zOmRjPSJodHRwOi8vcHVybC5vcmcvZGMvZWxlbWVudHMvMS4xLyI+PGRjOmNyZWF0b3I+PHJkZjpTZXEgeG1sbnM6cmRmPSJodHRwOi8vd3d3LnczLm9yZy8xOTk5LzAyLzIyLXJkZi1zeW50YXgtbnMjIj48cmRmOmxpPk1lbGFuaWUgKjwvcmRmOmxpPjwvcmRmOlNlcT4NCgkJCTwvZGM6Y3JlYXRvcj48L3JkZjpEZXNjcmlwdGlvbj48L3JkZjpSREY+PC94OnhtcG1ldGE+DQogICAgICAgICAgICAgICAgICAgICAgICAgICAgICAgICAgICAgICAgICAgICAgICAgICAgICAgICAgICAgICAgICAgICAgICAgICAgICAgICAgICAgICAgICAgICAgICAgICAgCiAgICAgICAgICAgICAgICAgICAgICAgICAgICAgICAgICAgICAgICAgICAgICAgICAgICAgICAgICAgICAgICAgICAgICAgICAgICAgICAgICAgICAgICAgICAgICAgICAgICAKICAgICAgICAgICAgICAgICAgICAgICAgICAgICAgICAgICAgICAgICAgICAgICAgICAgICAgICAgICAgICAgICAgICAgICAgICAgICAgICAgICAgICAgICAgICAgICAgICAgIAogICAgICAgICAgICAgICAgICAgICAgICAgICAgICAgICAgICAgICAgICAgICAgICAgICAgICAgICAgICAgICAgICAgICAgICAgICAgICAgICAgICAgICAgICAgICAgICAgICAgCiAgICAgICAgICAgICAgICAgICAgICAgICAgICAgICAgICAgICAgICAgICAgICAgICAgICAgICAgICAgICAgICAgICAgICAgICAgICAgICAgICAgICAgICAgICAgICAgICAgICAKICAgICAgICAgICAgICAgICAgICAgICAgICAgICAgICAgICAgICAgICAgICAgICAgICAgICAgICAgICAgICAgICAgICAgICAgICAgICAgICAgICAgICAgICAgICAgICAgICAgIAogICAgICAgICAgICAgICAgICAgICAgICAgICAgICAgICAgICAgICAgICAgICAgICAgICAgICAgICAgICAgICAgICAgICAgICAgICAgICAgICAgICAgICAgICAgICAgICAgICAgCiAgICAgICAgICAgICAgICAgICAgICAgICAgICAgICAgICAgICAgICAgICAgICAgICAgICAgICAgICAgICAgICAgICAgICAgICAgICAgICAgICAgICAgICAgICAgICAgICAgICAKICAgICAgICAgICAgICAgICAgICAgICAgICAgICAgICAgICAgICAgICAgICAgICAgICAgICAgICAgICAgICAgICAgICAgICAgICAgICAgICAgICAgICAgICAgICAgICAgICAgIAogICAgICAgICAgICAgICAgICAgICAgICAgICAgICAgICAgICAgICAgICAgICAgICAgICAgICAgICAgICAgICAgICAgICAgICAgICAgICAgICAgICAgICAgICAgICAgICAgICAgCiAgICAgICAgICAgICAgICAgICAgICAgICAgICAgICAgICAgICAgICAgICAgICAgICAgICAgICAgICAgICAgICAgICAgICAgICAgICAgICAgICAgICAgICAgICAgICAgICAgICAKICAgICAgICAgICAgICAgICAgICAgICAgICAgICAgICAgICAgICAgICAgICAgICAgICAgICAgICAgICAgICAgICAgICAgICAgICAgICAgICAgICAgICAgICAgICAgICAgICAgIAogICAgICAgICAgICAgICAgICAgICAgICAgICAgICAgICAgICAgICAgICAgICAgICAgICAgICAgICAgICAgICAgICAgICAgICAgICAgICAgICAgICAgICAgICAgICAgICAgICAgCiAgICAgICAgICAgICAgICAgICAgICAgICAgICAgICAgICAgICAgICAgICAgICAgICAgICAgICAgICAgICAgICAgICAgICAgICAgICAgICAgICAgICAgICAgICAgICAgICAgICAKICAgICAgICAgICAgICAgICAgICAgICAgICAgICAgICAgICAgICAgICAgICAgICAgICAgICAgICAgICAgICAgICAgICAgICAgICAgICAgICAgICAgICAgICAgICAgICAgICAgIAogICAgICAgICAgICAgICAgICAgICAgICAgICAgICAgICAgICAgICAgICAgICAgICAgICAgICAgICAgICAgICAgICAgICAgICAgICAgICAgICAgICAgICAgICAgICAgICAgICAgCiAgICAgICAgICAgICAgICAgICAgICAgICAgICAgICAgICAgICAgICAgICAgICAgICAgICAgICAgICAgICAgICAgICAgICAgICAgICAgICAgICAgICAgICAgICAgICAgICAgICAKICAgICAgICAgICAgICAgICAgICAgICAgICAgICAgICAgICAgICAgICAgICAgICAgICAgICAgICAgICAgICAgICAgICAgICAgICAgICAgICAgICAgICAgICAgICAgICAgICAgIAogICAgICAgICAgICAgICAgICAgICAgICAgICAgICAgICAgICAgICAgICAgICAgICAgICAgICAgICAgICAgICAgICAgICAgICAgICAgICAgICAgICAgICAgICAgICAgICAgICAgCiAgICAgICAgICAgICAgICAgICAgICAgICAgICAgICAgICAgICAgICAgICAgICAgICAgICAgICAgICAgICAgICAgICAgICAgICAgICAgICAgICAgICAgICAgICAgICAgICAgICAKICAgICAgICAgICAgICAgICAgICAgICAgICAgIDw/eHBhY2tldCBlbmQ9J3cnPz7/2wBDAAcFBQYFBAcGBQYIBwcIChELCgkJChUPEAwRGBUaGRgVGBcbHichGx0lHRcYIi4iJSgpKywrGiAvMy8qMicqKyr/2wBDAQcICAoJChQLCxQqHBgcKioqKioqKioqKioqKioqKioqKioqKioqKioqKioqKioqKioqKioqKioqKioqKioqKir/wAARCABNAXkDASIAAhEBAxEB/8QAHwAAAQUBAQEBAQEAAAAAAAAAAAECAwQFBgcICQoL/8QAtRAAAgEDAwIEAwUFBAQAAAF9AQIDAAQRBRIhMUEGE1FhByJxFDKBkaEII0KxwRVS0fAkM2JyggkKFhcYGRolJicoKSo0NTY3ODk6Q0RFRkdISUpTVFVWV1hZWmNkZWZnaGlqc3R1dnd4eXqDhIWGh4iJipKTlJWWl5iZmqKjpKWmp6ipqrKztLW2t7i5usLDxMXGx8jJytLT1NXW19jZ2uHi4+Tl5ufo6erx8vP09fb3+Pn6/8QAHwEAAwEBAQEBAQEBAQAAAAAAAAECAwQFBgcICQoL/8QAtREAAgECBAQDBAcFBAQAAQJ3AAECAxEEBSExBhJBUQdhcRMiMoEIFEKRobHBCSMzUvAVYnLRChYkNOEl8RcYGRomJygpKjU2Nzg5OkNERUZHSElKU1RVVldYWVpjZGVmZ2hpanN0dXZ3eHl6goOEhYaHiImKkpOUlZaXmJmaoqOkpaanqKmqsrO0tba3uLm6wsPExcbHyMnK0tPU1dbX2Nna4uPk5ebn6Onq8vP09fb3+Pn6/9oADAMBAAIRAxEAPwD6RooooAKKKKACiiigAooooAKKKKACiiigAooooAKKKKACiiigAooooAKKKKACiisPxh4li8IeF7zW7i3a4htFDPGjhWYEgcZ6nJHFAG5RXK2fjZW8Qado2q6bPp13qlu09pudXVwoBZSR0YA9CK2LDWodSa6e2GbS3dozcE4V3U4cD2BGM+oPpQBpUVytj4yl12Oa48NaTJqFjEzIt28ywpMRwfLzksM8Z4HvWv4e1c67okGovZzWRm3fuJ8b0wxHOOO1AGnRRRmgAoJx1prsQpK4JxwCayYpdP8AFGm3VnfW6uI3MF3ay87GGDg/gQQfQg0ASeIra4v/AA/fWenuiXNxA0UbucBCwxn8M5qn4Y0eXRv7QWdgUmuQ0P7wsfLVFQZz0J25Pua8S+B/g3Rdf1jxeNbtWvksL/yLZJpnIjXL9s+w/Kuu+Lfw98M6V8Ldb1HS9MWzvLWASRTQyuCp3D3oA9eBB6Glrz34I6VZ2Xwp0W8giAub23EtxMTl5WyepPpWzrPjJ9M8ZWHhy20uS8ur6B50ZJlVUVOpbPTk4FAHU0Vy+l+PNM1LR7++dJbV9Oumsrm3lALrMCBsGDhiSRjHXNdHbyvJbo88flSMMtHuzt9s0AS0UZpCwAoAWisfw5r6+IdLk1COAw2/nyxwszZ8xEYrv9gcE1n2fjJ9bluP+EZ0x9StbeQxPeNKIoncdVQnJbHTOMe9AHUUVleHdZfXdHW+lsZrBjJJGYJyCylHKHpx1U1q5oAKKM0hYY4oAWis/TtWjv5rm3K+VdWrhZoSclcjKkeoI5B/wrQoAKKKKACiiigAooooAKKKKACiiigAooooAKKKKACiiigAooooAKKKKACiiigANebfFkNrNx4Z8IwSlH1jU1kmIAOIYR5jHB9wtek1nXOgaVd6rDqV1p9vLfQDEVy8YLxj2bqKXUDBm8I+TfzeILq9uNS1a2s5YbJpVREgyOdqqAMk45OTXGXD3qfspK+k72um0hTIU+9yf3p+vL5/GvYccYrL0nRU0gXFrbbfsEjtLHAV/wBUWJLqP9kkk47ZPagCl4Xl0vTvAekvZzQx2EdlEI3DDaRtH65/Wtm6H/Evl8sSj92xHkD5+n8Oe/p71n2PhDQNNuvtFhpNtBIGLLsTAU+oHQH6Vs03qJaHmH+m+nxD/K3/AMa6y/1h/D/w9udXaK7leysXn8u8x5zFVJw+OM8c4ro6ZLEk8TRzIrxupVlYZDA9QRSewzkfD2kteafoeqX+rXEmptGLuYxzYWfenK7emwbhgD0FVtHaRfjX4kjhz9nbTLN5cdBLukA/HaP0FdTp2h6dosLR6RYwWoxgCNcDHYfT2qPSdHi0try6lcS3l5J51zORjcQMAD0VQAAP8TT0uI8k/Z4/5DPjz/sLH+b123xp/wCSM+Jf+vT/ANmWuE/Z1uIZNa8dCORWLapvUA9VLPz9K7n42ypF8GfEfmOq7rYKuTjJLrgUDJfg6cfBvw1/15L/ADNYek2134q+L3ifWLLUZLOPSootJgkjjR8nG+TG4EDkitn4MyRz/Brw5sZXAtAjYOcEEgiuq03QdK0Z5m0rT7ezadt8pgjC+Y3qcdT70dQ6HnuueG7XwtdeErKxM0kF14i+0X08zbnnmZHIZzwMlgPbgVt61q73/wAQI/DxuTa6fZWB1G/dX2tMC21I89QuQxOOuAPWun1nSLfWdPa1uQRhlkjkX70bqcqw9wRUJ8PadeXltqOq2Fpc6lbx7FuTENwGc8Z5AzzigDmfhvqMU3hu+1m4unEF9qEskKTyFvJi3+XGuCeMhQce9bPjnVZdJ8HXstp/x9zqLa1HrLIQifq2fwpL3RDYW+l2PhyzWztEvlkuFtSIwsY3MeBjILBQR71t3Wn2t+IPtkCTfZ5Vmi3jOxx0Ye4zS3A5HxVp114f+C+pafoIc3FnpTRQ7PvEhMEj36n61Z+H0mmaf8LdCe0miSzSwjYybgBnaC2ffdnPvXWFQwwelY9r4Q8P2V4bq00m1hmL78omAG/vBegPvin1YGshVod0ecMMjAwea81f7b5jcfEHqfui3x+HNenAYooAwNPvH07wbJezx6k5t4ZJSmohftDbcnDbeO3HtisLwpaP4i8N6HrmqapcJqN463+IZtqlSCfJC9NgBAIHJxk13bKGUqwyCMEHvWdp3h/StH3f2VYQWu7PESAdTnA9BnsKOoHMI0ifHZ1gz5Umgg3GOm4THZn3wWruay9M0ZbK/vNRnYS314VEkgGAqL91F9AMn6kk1qUdA6mVqPibRdIvobPU9RgtrmcFoopGw0gHXaO+KtWWq2GpWf2vT7yG5t+R5sThlBHUZHpXm95Pe6x8eJpdOsBfx+G9MEW0zCMJPcHdnJH9xQKpXWi6h4W0qK0v5kFx4u8Txm8jtyfLhif5mjUnGcqmCeM7jSWqA9Zivbea0+1JMhg2lvNzhceufT3rJHjbw2ZI1/ti1/fOI4m3fLIxOAqt0Y+wNcf8QZZNX8eeFPBW4x6bfGW7vkXjzo4hlYv90nqK7+70mxvLSG1uLdGhgkjljTGAjIwZSPTBApgXs0Vj+ItSutLsI5rKTTY3Z9pOo3JgTGD0YA8+1Ydh4q1e41G3hmufCzRySBWFvqjPIQT/AArt5PtQB2lBOOtYHijxGdDOn2trEs+o6pci2tImOF3YLM7f7KqCT+XerWmf2yt5eJqrW0lsNn2aWJSrNx8+5ecYPTnpQBaGp2h1Y6as6m8WETmIA5CE4DfmD+VW81xngn/ia6pr/iVuVvbw2ts3/TCDKAj2L+Y341n6t4+vm8Na1ruii3SysJTa2ZmQsb2cME4wRhd52jucE0Aeh0VDatL9li+1FTNsHmFRgbsc4/GnTzRwQPNKwRI1LMx6ADqaA3JKK87uvHGr3Wg6fq+lrbQR6tqMNpp0E8ZZpY3fBlPIx8oZgPQc16GDxz1oAWik3CjcKAFopMiuf17xFJZaxpuiaYiS6nqJZl8zOyGJMb5Gx1AyAB3JFAHQ5qO4uI7WB5p22RoMsx7D1rm/CWuahrWoa4t08EtpYXv2S3liTaZCqguTyejHHHpXTsAVOeeKAESRJEV42DKwyGU5BFOrivh/fytc+I9IclodJ1V4bc/3YmVZAv8AwHeQPYCnah4p1e21GeGG58LrHG5VRcaoySAf7S7eD7UAdnRWN4d1S71OxklvpNNkdZNoOm3JnTGB1JAwfao28W2COym21MlTjI0ycj/0CgDdorB/4S/T/wDn21T/AMFlx/8AEUf8Jfp//Ptqn/gsuP8A4igDeorB/wCEv0//AJ9tU/8ABZcf/EUf8Jfp/wDz7ap/4LLj/wCIoA3qKwf+Ev0//n21T/wWXH/xFH/CX6f/AM+2qf8AgsuP/iKAN6q1/YWmp2clpqECXFvIMPFIMqw9xWV/wl+n/wDPtqn/AILLj/4ig+L7D/n21T/wWXH/AMRQBmWnh3wZ4Z1/zNP0fSdNmgh86S4QLE0YLbVzx0Pzc57UnimXwvrttZm9sdP1+M3cVttZ1kEPmNjdjmo2vtLk1W/vZl1o/bY4oiiadcIUVMkYYLnksTVe7k0meCGKA67GI7qK5JlsLqbJjbcB8y8A+1AHU6J4a0Xw7FImhaZbaekhBdbeMIGx7CtWsAeL7AdbbVP/AAWXH/xFL/wl+n/8+2qf+Cy4/wDiKAN6isH/AIS/T/8An21T/wAFlx/8RR/wl+n/APPtqn/gsuP/AIigDeorB/4S/T/+fbVP/BZcf/EUf8Jfp/8Az7ap/wCCy4/+IoA3qKwf+Ev0/wD59tU/8Flx/wDEUf8ACX6f/wA+2qf+Cy4/+IoA3qKwf+Ev0/8A59tU/wDBZcf/ABFH/CX6f/z7ap/4LLj/AOIoA3qKwf8AhL9P/wCfbVP/AAWXH/xFH/CX6f8A8+2qf+Cy4/8AiKAN6isSHxVYzzJElvqQZ2Cgvp06gE+pKYH1rZ3UAc74Y8IR+G9U1m/W+nvJtYuftM5mVRtbGAF2gfKAMAGp/FugHXtJhWAql5ZXUV5aO3QSxtkA+xGVPsxrdooA5fWvC8Pir+zNTZ7nStW05zJa3EYUvCSMMhByGU9x37Vp6dpV1BOLjVNSlv51XCfuxFGnrhB39yT7YrVxRQBXu7C01CJY761huY1O4LNGHAPrg1Wi8PaNDMssOk2MciHcrpboCp9QcVo0UAYPiPwxHr15pd7HdS2d9pU5mtp41DYLKVZWU8EEGr62M66ZLbm9leeVGH2hgMqxGMgDgY9Kv0UAZuhaLBoPh+z0i03NDaQLCrN1bA5Y+5PJ+tclH8K7ePQrfSDrN81nZ3y3lqhWP90RJ5m37vzcnqc139FHW4HL2TmP4jX1r58jxrpduwjaUsAfMkBOCeuAMmls/D19I/iG31XUbu70/U3YQxTOpMCMpDBCBwvPAPPGe9dL5ahy4UbiMZxzTqQHDWvw1jhj0BbjWr64Ogv/AKMSsa/J5ZjC8L6H73X3qe8OmN8QLIQaqsWoQuxuITdHMishCxeXnHXDdOMe9dlUfkReZ5nlpv8A723n86YdDn5dE1WbxTf3UesXkVhc2PkrBuUpDL2kjGMggZJz1JHpVi20C7gm0l31y/mGnwtHMjlcXhKgbpOOoxnjFbmKKAOR1PwzrB0YW1h4j1L7UdQ+1LcF0BVC2fKPHMYHbqas6p4QGoeK7PX7fUrmyure1e0kESoRLEzBiPmB2nI6jmulooA4qDST8PfCtxHo0sl7PcXoMEdx03zTdPlx03k5POB7VsaFrVzqWhT31xEkrpPNGiWwPzqjlV6nqcf/AKq3CobqM0ioqDCqFHoBQBg+FNBfRrO8mu9pvtSu3vLracgM2AFB7hVCrn2rQl8P6PPM0s+lWUkjnLO9uhLH1JxWhRQBXtNPs7CMx2NrDbIx3FYYwgJ9cCrGMUUUAGKMUUUAGKKKDQBh6/4s03w1NYxan9o36hMILYQwtJvkPReO9SaV4n0vV5b2G1nZLiwIF1BPGY3hyMgsGxwRznpXEeJvtmv/ABs0TTtM8hhoNlJqMonzsEkh8tM47gAkVS8Y+Hbvw94d13Wby9WfUvEN5Z2t08KGOOKAyrHsUZJ+6xBJPOaAPUrC+h1G0W5ttzQv9xyuN4/vD2ParORXLeJNcn0+/wBH0DRgqX2qOyq5XK28MYy747kDAA9SKq+E9Vur/wAS+JTJqT3OladPHZwGTbxIqBpTuAGeWA/CgDtKTigMK5fXNeun8XWHhnSnEM08DXd3c4BMMCnb8oPG5m4BPQAmgDqOKWuM8Da1PqVprOpXupGfTl1GWGykl2qFhjwhORjOWDcn2rsVkV0DIQykZBHINADsUYpNwo3CgBaTiquo6hBpmmXV/dNtgtYmmkb0VRk/yrzubxHrl5p3hu5F81lfeIr6Mw2caqRDaYLtnIyW2AZPq3FAHp9VF1CA6k1ixKThPMVWGN69yvrg9fSrQPFcR8RLiTT7nwvfWuROutwwcfxJIGV1+mOfwFHUDuKMUUUAGKMUUUAGKMUUUAFFFFABRRRQAUUUUAFFFFABRRRQAUUUUAFFFFABRRRQAUUUUAFFFFABRRRQAUUUUAFFFFABQaKKAMSw8J6dpviW/wBdthP9v1BVW5d52YOF+6Np4GParOv6LbeIdDudLvQfJuE2kr1Q9VYe4IBH0rSooA5qfwrFrcmm3utiWPU9NDolxaXDRbwwAb7pB2tgHHaszX/CWnaL4H8QxaPZytJfLJMYwWkJkb+6vOOewruKKAOe8QeHE8S2OnIZJoGtbmK5SSOZ4ypXnoPvccYPHNSah4R03UvEEOszidLyKA25aGdkWWPOdjgH5hnnFbtFAHJyaFoXhHww9vFp8tzaiUusDI9xl2JPKgE7QWJ6YFRxeGbTV/hmmhQtOLd4diM/mW7Ahs5xwygHoPQAV1560ooAxIfC9pHei8klupbn7CLF3a4bDIO+3ON2f4utMg8H6bbQ6PFGbrboxJtd105zkEfPz8/B75reooA5nS/BtrZWet2dwZJ7TV55JJLeSd5AquMMAWORnk4HTPFMtvh7ols2mOVu530vItnnuncqu3btOTyoHbpXU0UAcdDqGvyeMEiYyx6a95KiobcYMSQgZLYyMyHIOeQprU1DRH1jX7C4vQos9MkM8MecmSYqVDH0CgnHufat3A9KKACiiigAooooAKKKKAP/2Q==)"
      ],
      "metadata": {
        "id": "a8tpTfLv4GxR"
      }
    },
    {
      "cell_type": "code",
      "source": [
        "from math import pi, exp, sqrt\n",
        "'''\n",
        "Encontramos la probabilidad de cada dato\n",
        "usando la distribucion normal:\n",
        "\n",
        "'''\n",
        "def getProb(x, label, col):\n",
        "  mean = meansList[label][col]\n",
        "  dev = devStdrList[label][col]\n",
        "  var = dev**2 \n",
        "  factor1 = (1) / ((sqrt(2*pi)) * dev)\n",
        "  factor2 = exp(-( ((x-mean)**2) / (2*var)))\n",
        "  return factor1 * factor2"
      ],
      "metadata": {
        "id": "9anfIpwv7ZPB"
      },
      "execution_count": null,
      "outputs": []
    },
    {
      "cell_type": "code",
      "source": [
        "'''\n",
        "Calculamos una tabla que contenga\n",
        "todas las probabilidad Apriori de cada dato\n",
        "\n",
        "'''\n",
        "def getProbsApriori(dat):\n",
        "  # Encontramos las probabilidades de cada clase\n",
        "  probClassTmp = [tuple(frecList)]\n",
        "  probClass = list(map(lambda x: (x[0]/n, x[1]/n), probClassTmp))\n",
        "\n",
        "  # Calculamos las probabilidades de los datos que queremos\n",
        "  # predecir usando el modulo q evalua la distribucion normal\n",
        "  probData = []\n",
        "  for i in range(len(dat)):\n",
        "    prob = (getProb(dat[i], 0, i), getProb(dat[i], 1, i))\n",
        "    probData.append(prob)\n",
        "\n",
        "  # unismo las dos tablas\n",
        "  probApriori = probClass + probData\n",
        "  return probApriori\n"
      ],
      "metadata": {
        "id": "1PcmwH6GkrpF"
      },
      "execution_count": null,
      "outputs": []
    },
    {
      "cell_type": "code",
      "source": [
        "'''\n",
        "En base a las probabilidades apriori \n",
        "calculamos la probabilidad a posteriori\n",
        "para poder generar una prediccion\n",
        "'''\n",
        "def getProbPosteriori(probApriori):\n",
        "  sc = spark.sparkContext\n",
        "  predictRDD = sc.parallelize(probApriori)\n",
        "  # Multiplicamos las probabilidades para cada clase\n",
        "  f = predictRDD.reduce(lambda x, y: (x[0]*y[0], x[1]*y[1]))\n",
        "\n",
        "  # calculamos la probabilidad a posteriori\n",
        "  probPosteriori = tuple(map(lambda x: round((x/sum(f))*100, 2), f))\n",
        "  return probPosteriori"
      ],
      "metadata": {
        "id": "gpg0vP2Ol962"
      },
      "execution_count": null,
      "outputs": []
    },
    {
      "cell_type": "markdown",
      "source": [
        "##Finalmente para elegir la clase a la que pertenece, elegimos la probabilidad de mayor valor de la dos anteriores:"
      ],
      "metadata": {
        "id": "QGv57PqKr_K9"
      }
    },
    {
      "cell_type": "markdown",
      "source": [
        "formato: \n",
        "> [ **glucosa**, **insulina**, **edad**, **Indice de masa corporal(IMC)**]"
      ],
      "metadata": {
        "id": "OATtyJzssMVq"
      }
    },
    {
      "cell_type": "code",
      "source": [
        "datos1 = [100, 94, 40, 30]"
      ],
      "metadata": {
        "id": "PUP8fNd_j6EO"
      },
      "execution_count": null,
      "outputs": []
    },
    {
      "cell_type": "code",
      "source": [
        "probApriori1 = getProbsApriori(datos1)\n",
        "print('Tabla de propabilidades Apriori: ')\n",
        "probApriori1"
      ],
      "metadata": {
        "colab": {
          "base_uri": "https://localhost:8080/"
        },
        "id": "5-yiGfqhlpcR",
        "outputId": "56662837-4eef-402c-ebe2-4625f6533bba"
      },
      "execution_count": null,
      "outputs": [
        {
          "output_type": "stream",
          "name": "stdout",
          "text": [
            "Tabla de propabilidades Apriori: \n"
          ]
        },
        {
          "output_type": "execute_result",
          "data": {
            "text/plain": [
              "[(0.6510416666666666, 0.3489583333333333),\n",
              " (0.007990343768683149, 0.0047030052021537),\n",
              " (0.004062934605564566, 0.0035663742098490238),\n",
              " (0.009610650436979567, 0.005716942093542189),\n",
              " (0.022336109009058976, 0.013490970627018258)]"
            ]
          },
          "metadata": {},
          "execution_count": 79
        }
      ]
    },
    {
      "cell_type": "markdown",
      "source": [
        "Primera predicion"
      ],
      "metadata": {
        "id": "ubDMcO23nN9L"
      }
    },
    {
      "cell_type": "code",
      "source": [
        "datos1 = [100, 94, 40, 30]\n",
        "predict1 = getProbPosteriori(probApriori1)\n",
        "print('Tiene diabetes: ', datos1)\n",
        "print('NO :', predict1[0], '%')\n",
        "print('SI :', predict1[1], '%')"
      ],
      "metadata": {
        "colab": {
          "base_uri": "https://localhost:8080/"
        },
        "id": "6mMdMud9mtP5",
        "outputId": "763dd187-4746-4cd4-a99b-c5c5374bd834"
      },
      "execution_count": null,
      "outputs": [
        {
          "output_type": "stream",
          "name": "stdout",
          "text": [
            "Tiene diabetes:  [100, 94, 40, 30]\n",
            "NO : 90.95 %\n",
            "SI : 9.05 %\n"
          ]
        }
      ]
    },
    {
      "cell_type": "markdown",
      "source": [
        "Segundo predicion"
      ],
      "metadata": {
        "id": "XILln_Qwnjfw"
      }
    },
    {
      "cell_type": "code",
      "source": [
        "datos2 = [180, 86, 60, 25.5]\n",
        "predict2 = getProbPosteriori(getProbsApriori(datos2))\n",
        "print('Tiene diabetes: ', datos2)\n",
        "print('NO :', predict2[0], '%')\n",
        "print('SI :', predict2[1], '%')"
      ],
      "metadata": {
        "colab": {
          "base_uri": "https://localhost:8080/"
        },
        "id": "SHwoNB-gnLhr",
        "outputId": "c3b6a3ff-2656-4c93-b148-f34eb3139325"
      },
      "execution_count": null,
      "outputs": [
        {
          "output_type": "stream",
          "name": "stdout",
          "text": [
            "Tiene diabetes:  [100, 94, 40, 30]\n",
            "NO : 49.41 %\n",
            "SI : 50.59 %\n"
          ]
        }
      ]
    },
    {
      "cell_type": "markdown",
      "source": [
        "Tercera prediccion"
      ],
      "metadata": {
        "id": "jfg3hSkJnmQy"
      }
    },
    {
      "cell_type": "code",
      "source": [
        "datos3 = [70, 0, 20, 23.3]\n",
        "predict3 = getProbPosteriori(getProbsApriori(datos3))\n",
        "print('Tiene diabetes: ', datos2)\n",
        "print('NO :', predict3[0], '%')\n",
        "print('SI :', predict3[1], '%')"
      ],
      "metadata": {
        "colab": {
          "base_uri": "https://localhost:8080/"
        },
        "id": "04MPozeZno_y",
        "outputId": "e7464308-af3d-42d2-d07c-c3d155031822"
      },
      "execution_count": null,
      "outputs": [
        {
          "output_type": "stream",
          "name": "stdout",
          "text": [
            "Tiene diabetes:  [180, 86, 60, 25.5]\n",
            "NO : 86.2 %\n",
            "SI : 13.8 %\n"
          ]
        }
      ]
    },
    {
      "cell_type": "code",
      "source": [
        "datos4 = [200, 168, 20, 15]\n",
        "predict4 = getProbPosteriori(getProbsApriori(datos4))\n",
        "print('Tiene diabetes: ', datos2)\n",
        "print('NO :', predict4[0], '%')\n",
        "print('SI :', predict4[1], '%')"
      ],
      "metadata": {
        "colab": {
          "base_uri": "https://localhost:8080/"
        },
        "id": "XPeuSVWGtZPF",
        "outputId": "cce00014-d4d4-4361-8096-a9bce8457b6f"
      },
      "execution_count": null,
      "outputs": [
        {
          "output_type": "stream",
          "name": "stdout",
          "text": [
            "Tiene diabetes:  [180, 86, 60, 25.5]\n",
            "NO : 28.99 %\n",
            "SI : 71.01 %\n"
          ]
        }
      ]
    }
  ]
}